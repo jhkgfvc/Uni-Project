{
 "cells": [
  {
   "cell_type": "markdown",
   "metadata": {},
   "source": [
    "# Data preparation"
   ]
  },
  {
   "cell_type": "code",
   "execution_count": 1,
   "metadata": {},
   "outputs": [],
   "source": [
    "import pandas as pd #import pandas library\n",
    "df = pd.read_excel('A2_Data.xlsx') #read excel file and store data into df"
   ]
  },
  {
   "cell_type": "code",
   "execution_count": 2,
   "metadata": {},
   "outputs": [
    {
     "data": {
      "text/plain": [
       "ID                   int64\n",
       "User                object\n",
       "Date        datetime64[ns]\n",
       "Summary             object\n",
       "Review              object\n",
       "Rating               int64\n",
       "Version             object\n",
       "AppStore            object\n",
       "dtype: object"
      ]
     },
     "execution_count": 2,
     "metadata": {},
     "output_type": "execute_result"
    }
   ],
   "source": [
    "df.dtypes #data exploration, types"
   ]
  },
  {
   "cell_type": "code",
   "execution_count": 3,
   "metadata": {},
   "outputs": [
    {
     "data": {
      "text/html": [
       "<div>\n",
       "<style scoped>\n",
       "    .dataframe tbody tr th:only-of-type {\n",
       "        vertical-align: middle;\n",
       "    }\n",
       "\n",
       "    .dataframe tbody tr th {\n",
       "        vertical-align: top;\n",
       "    }\n",
       "\n",
       "    .dataframe thead th {\n",
       "        text-align: right;\n",
       "    }\n",
       "</style>\n",
       "<table border=\"1\" class=\"dataframe\">\n",
       "  <thead>\n",
       "    <tr style=\"text-align: right;\">\n",
       "      <th></th>\n",
       "      <th>ID</th>\n",
       "      <th>User</th>\n",
       "      <th>Date</th>\n",
       "      <th>Summary</th>\n",
       "      <th>Review</th>\n",
       "      <th>Rating</th>\n",
       "      <th>Version</th>\n",
       "      <th>AppStore</th>\n",
       "    </tr>\n",
       "  </thead>\n",
       "  <tbody>\n",
       "    <tr>\n",
       "      <th>0</th>\n",
       "      <td>1175</td>\n",
       "      <td>4005400</td>\n",
       "      <td>2020-04-27</td>\n",
       "      <td>Resistance is futile</td>\n",
       "      <td>So try to help. My mobile phone number nor my ...</td>\n",
       "      <td>1</td>\n",
       "      <td>1</td>\n",
       "      <td>Apple</td>\n",
       "    </tr>\n",
       "    <tr>\n",
       "      <th>1</th>\n",
       "      <td>1128</td>\n",
       "      <td>!Natski!</td>\n",
       "      <td>2020-04-27</td>\n",
       "      <td>Can not register my phone number</td>\n",
       "      <td>I am unable to pass the point of registering m...</td>\n",
       "      <td>1</td>\n",
       "      <td>1</td>\n",
       "      <td>Apple</td>\n",
       "    </tr>\n",
       "    <tr>\n",
       "      <th>2</th>\n",
       "      <td>1171</td>\n",
       "      <td>$Lyn$</td>\n",
       "      <td>2020-04-27</td>\n",
       "      <td>Phone number problems</td>\n",
       "      <td>Tried several times. Does not recognise my pho...</td>\n",
       "      <td>1</td>\n",
       "      <td>1</td>\n",
       "      <td>Apple</td>\n",
       "    </tr>\n",
       "    <tr>\n",
       "      <th>3</th>\n",
       "      <td>1473</td>\n",
       "      <td>-/::4566</td>\n",
       "      <td>2020-04-27</td>\n",
       "      <td>Mr r mason</td>\n",
       "      <td>This is poorâ€” it wonâ€™t allow me to put in ...</td>\n",
       "      <td>1</td>\n",
       "      <td>1</td>\n",
       "      <td>Apple</td>\n",
       "    </tr>\n",
       "    <tr>\n",
       "      <th>4</th>\n",
       "      <td>1104</td>\n",
       "      <td>-Grant1964-</td>\n",
       "      <td>2020-04-27</td>\n",
       "      <td>Will only register if not on wifi</td>\n",
       "      <td>Tried 30+ times over two days to try and regis...</td>\n",
       "      <td>2</td>\n",
       "      <td>1</td>\n",
       "      <td>Apple</td>\n",
       "    </tr>\n",
       "    <tr>\n",
       "      <th>...</th>\n",
       "      <td>...</td>\n",
       "      <td>...</td>\n",
       "      <td>...</td>\n",
       "      <td>...</td>\n",
       "      <td>...</td>\n",
       "      <td>...</td>\n",
       "      <td>...</td>\n",
       "      <td>...</td>\n",
       "    </tr>\n",
       "    <tr>\n",
       "      <th>10332</th>\n",
       "      <td>1533</td>\n",
       "      <td>Kristina McKay</td>\n",
       "      <td>2021-01-09</td>\n",
       "      <td>NaN</td>\n",
       "      <td>I don't know if it really did anything at all....</td>\n",
       "      <td>2</td>\n",
       "      <td>2</td>\n",
       "      <td>Google</td>\n",
       "    </tr>\n",
       "    <tr>\n",
       "      <th>10333</th>\n",
       "      <td>1531</td>\n",
       "      <td>Mario Malfliet</td>\n",
       "      <td>2021-01-09</td>\n",
       "      <td>NaN</td>\n",
       "      <td>Extreme battery use since the Dec update. Sorr...</td>\n",
       "      <td>1</td>\n",
       "      <td>2</td>\n",
       "      <td>Google</td>\n",
       "    </tr>\n",
       "    <tr>\n",
       "      <th>10334</th>\n",
       "      <td>1532</td>\n",
       "      <td>Sam</td>\n",
       "      <td>2021-01-09</td>\n",
       "      <td>NaN</td>\n",
       "      <td>Battery is getting killed. Only noticed recent...</td>\n",
       "      <td>1</td>\n",
       "      <td>2</td>\n",
       "      <td>Google</td>\n",
       "    </tr>\n",
       "    <tr>\n",
       "      <th>10335</th>\n",
       "      <td>1523</td>\n",
       "      <td>Simon draper</td>\n",
       "      <td>2021-01-09</td>\n",
       "      <td>NaN</td>\n",
       "      <td>Like others, trying to do the right thing but ...</td>\n",
       "      <td>1</td>\n",
       "      <td>2</td>\n",
       "      <td>Google</td>\n",
       "    </tr>\n",
       "    <tr>\n",
       "      <th>10336</th>\n",
       "      <td>1521</td>\n",
       "      <td>Sharee Mitchell</td>\n",
       "      <td>2021-01-10</td>\n",
       "      <td>NaN</td>\n",
       "      <td>Didnt do anything</td>\n",
       "      <td>1</td>\n",
       "      <td>2</td>\n",
       "      <td>Google</td>\n",
       "    </tr>\n",
       "  </tbody>\n",
       "</table>\n",
       "<p>10337 rows × 8 columns</p>\n",
       "</div>"
      ],
      "text/plain": [
       "         ID             User       Date                            Summary  \\\n",
       "0      1175          4005400 2020-04-27               Resistance is futile   \n",
       "1      1128         !Natski! 2020-04-27   Can not register my phone number   \n",
       "2      1171            $Lyn$ 2020-04-27              Phone number problems   \n",
       "3      1473         -/::4566 2020-04-27                         Mr r mason   \n",
       "4      1104      -Grant1964- 2020-04-27  Will only register if not on wifi   \n",
       "...     ...              ...        ...                                ...   \n",
       "10332  1533   Kristina McKay 2021-01-09                                NaN   \n",
       "10333  1531   Mario Malfliet 2021-01-09                                NaN   \n",
       "10334  1532              Sam 2021-01-09                                NaN   \n",
       "10335  1523     Simon draper 2021-01-09                                NaN   \n",
       "10336  1521  Sharee Mitchell 2021-01-10                                NaN   \n",
       "\n",
       "                                                  Review  Rating Version  \\\n",
       "0      So try to help. My mobile phone number nor my ...       1       1   \n",
       "1      I am unable to pass the point of registering m...       1       1   \n",
       "2      Tried several times. Does not recognise my pho...       1       1   \n",
       "3      This is poorâ€” it wonâ€™t allow me to put in ...       1       1   \n",
       "4      Tried 30+ times over two days to try and regis...       2       1   \n",
       "...                                                  ...     ...     ...   \n",
       "10332  I don't know if it really did anything at all....       2       2   \n",
       "10333  Extreme battery use since the Dec update. Sorr...       1       2   \n",
       "10334  Battery is getting killed. Only noticed recent...       1       2   \n",
       "10335  Like others, trying to do the right thing but ...       1       2   \n",
       "10336                                  Didnt do anything       1       2   \n",
       "\n",
       "      AppStore  \n",
       "0        Apple  \n",
       "1        Apple  \n",
       "2        Apple  \n",
       "3        Apple  \n",
       "4        Apple  \n",
       "...        ...  \n",
       "10332   Google  \n",
       "10333   Google  \n",
       "10334   Google  \n",
       "10335   Google  \n",
       "10336   Google  \n",
       "\n",
       "[10337 rows x 8 columns]"
      ]
     },
     "execution_count": 3,
     "metadata": {},
     "output_type": "execute_result"
    }
   ],
   "source": [
    "df #data exploration, attributes details and total number of rows and columns. This dataset contains 10337 rows, 8 columns. For data types, only 'ID' and 'Rating' in integer, 'Date' in date and rest as object."
   ]
  },
  {
   "cell_type": "code",
   "execution_count": 4,
   "metadata": {},
   "outputs": [
    {
     "data": {
      "text/plain": [
       "ID             0\n",
       "User           0\n",
       "Date           0\n",
       "Summary     8825\n",
       "Review         0\n",
       "Rating         0\n",
       "Version        0\n",
       "AppStore       0\n",
       "dtype: int64"
      ]
     },
     "execution_count": 4,
     "metadata": {},
     "output_type": "execute_result"
    }
   ],
   "source": [
    "df.isnull().sum() #Check null cells. "
   ]
  },
  {
   "cell_type": "raw",
   "metadata": {},
   "source": [
    "'Summary' provides a summary of the customers' problem/review about target app. However, out of 10337 rows, 'Summary' has 8825 data missing (85.37%). Removing all data contains missing value will lead to lost of majority information we collected. Our main objective is to extract text features of 'Review' and test the relationship with 'Rating\". 'Summary' columns do not affect our analysis. Therefore, simply remove the 'Summary' column."
   ]
  },
  {
   "cell_type": "code",
   "execution_count": 5,
   "metadata": {},
   "outputs": [],
   "source": [
    "df_cleaned = df[['ID','Review','Rating']] #prepare data for text analysing"
   ]
  },
  {
   "cell_type": "markdown",
   "metadata": {},
   "source": [
    "# Text preparation"
   ]
  },
  {
   "cell_type": "code",
   "execution_count": 6,
   "metadata": {},
   "outputs": [
    {
     "name": "stderr",
     "output_type": "stream",
     "text": [
      "[nltk_data] Downloading package punkt to\n",
      "[nltk_data]     C:\\Users\\sammy\\AppData\\Roaming\\nltk_data...\n",
      "[nltk_data]   Package punkt is already up-to-date!\n"
     ]
    }
   ],
   "source": [
    "#Tokenizing:\n",
    "import nltk\n",
    "from nltk.tokenize import word_tokenize\n",
    "nltk.download('punkt')\n",
    "df_tokenized = df_cleaned['Review'].apply(word_tokenize) #break down 'Review' sentence into words"
   ]
  },
  {
   "cell_type": "code",
   "execution_count": 7,
   "metadata": {},
   "outputs": [],
   "source": [
    "#Case folding:\n",
    "df_casefolded = df_tokenized.apply(lambda x: [word.lower() for word in x]) #for every words in df_tokenlized, change into lower letter, repeat the process"
   ]
  },
  {
   "cell_type": "code",
   "execution_count": 8,
   "metadata": {},
   "outputs": [],
   "source": [
    "#Stemming:\n",
    "from nltk.stem import SnowballStemmer #import snowballstemmer\n",
    "Stemmer = SnowballStemmer('english') #set stemmer\n",
    "df_stemming = df_casefolded.apply(lambda x: [Stemmer.stem(word) for word in x ]) #apply stemmer to the every words (data after case folding) and store into df_stemming"
   ]
  },
  {
   "cell_type": "code",
   "execution_count": 9,
   "metadata": {},
   "outputs": [
    {
     "name": "stderr",
     "output_type": "stream",
     "text": [
      "[nltk_data] Downloading package stopwords to\n",
      "[nltk_data]     C:\\Users\\sammy\\AppData\\Roaming\\nltk_data...\n",
      "[nltk_data]   Package stopwords is already up-to-date!\n"
     ]
    }
   ],
   "source": [
    "#Removing stopwords:\n",
    "nltk.download('stopwords') #download stopwords\n",
    "from nltk.corpus import stopwords\n",
    "Stop_words = stopwords.words('english') #import stopwards and store all 179 stop words as Stop_words\n",
    "\n",
    "New_stop_words = [\"0o\", \"0s\", \"3a\", \"3b\", \"3d\", \"6b\", \"6o\", \"a\", \"a1\", \"a2\", \"a3\", \"a4\", \"ab\", \"able\", \"about\", \"above\", \"abst\", \"ac\", \"accordance\", \"according\", \"accordingly\", \"across\", \"act\", \"actually\", \"ad\", \"added\", \"adj\", \"ae\", \"af\", \"affected\", \"affecting\", \"affects\", \"after\", \"afterwards\", \"ag\", \"again\", \"against\", \"ah\", \"ain\", \"ain't\", \"aj\", \"al\", \"all\", \"allow\", \"allows\", \"almost\", \"alone\", \"along\", \"already\", \"also\", \"although\", \"always\", \"am\", \"among\", \"amongst\", \"amoungst\", \"amount\", \"an\", \"and\", \"announce\", \"another\", \"any\", \"anybody\", \"anyhow\", \"anymore\", \"anyone\", \"anything\", \"anyway\", \"anyways\", \"anywhere\", \"ao\", \"ap\", \"apart\", \"apparently\", \"appear\", \"appreciate\", \"appropriate\", \"approximately\", \"ar\", \"are\", \"aren\", \"arent\", \"aren't\", \"arise\", \"around\", \"as\", \"a's\", \"aside\", \"ask\", \"asking\", \"associated\", \"at\", \"au\", \"auth\", \"av\", \"available\", \"aw\", \"away\", \"awfully\", \"ax\", \"ay\", \"az\", \"b\", \"b1\", \"b2\", \"b3\", \"ba\", \"back\", \"bc\", \"bd\", \"be\", \"became\", \"because\", \"become\", \"becomes\", \"becoming\", \"been\", \"before\", \"beforehand\", \"begin\", \"beginning\", \"beginnings\", \"begins\", \"behind\", \"being\", \"believe\", \"below\", \"beside\", \"besides\", \"best\", \"better\", \"between\", \"beyond\", \"bi\", \"bill\", \"biol\", \"bj\", \"bk\", \"bl\", \"bn\", \"both\", \"bottom\", \"bp\", \"br\", \"brief\", \"briefly\", \"bs\", \"bt\", \"bu\", \"but\", \"bx\", \"by\", \"c\", \"c1\", \"c2\", \"c3\", \"ca\", \"call\", \"came\", \"can\", \"cannot\", \"cant\", \"can't\", \"cause\", \"causes\", \"cc\", \"cd\", \"ce\", \"certain\", \"certainly\", \"cf\", \"cg\", \"ch\", \"changes\", \"ci\", \"cit\", \"cj\", \"cl\", \"clearly\", \"cm\", \"c'mon\", \"cn\", \"co\", \"com\", \"come\", \"comes\", \"con\", \"concerning\", \"consequently\", \"consider\", \"considering\", \"contain\", \"containing\", \"contains\", \"corresponding\", \"could\", \"couldn\", \"couldnt\", \"couldn't\", \"course\", \"cp\", \"cq\", \"cr\", \"cry\", \"cs\", \"c's\", \"ct\", \"cu\", \"currently\", \"cv\", \"cx\", \"cy\", \"cz\", \"d\", \"d2\", \"da\", \"date\", \"dc\", \"dd\", \"de\", \"definitely\", \"describe\", \"described\", \"despite\", \"detail\", \"df\", \"di\", \"did\", \"didn\", \"didn't\", \"different\", \"dj\", \"dk\", \"dl\", \"do\", \"does\", \"doesn\", \"doesn't\", \"doing\", \"don\", \"done\", \"don't\", \"down\", \"downwards\", \"dp\", \"dr\", \"ds\", \"dt\", \"du\", \"due\", \"during\", \"dx\", \"dy\", \"e\", \"e2\", \"e3\", \"ea\", \"each\", \"ec\", \"ed\", \"edu\", \"ee\", \"ef\", \"effect\", \"eg\", \"ei\", \"eight\", \"eighty\", \"either\", \"ej\", \"el\", \"eleven\", \"else\", \"elsewhere\", \"em\", \"empty\", \"en\", \"end\", \"ending\", \"enough\", \"entirely\", \"eo\", \"ep\", \"eq\", \"er\", \"es\", \"especially\", \"est\", \"et\", \"et-al\", \"etc\", \"eu\", \"ev\", \"even\", \"ever\", \"every\", \"everybody\", \"everyone\", \"everything\", \"everywhere\", \"ex\", \"exactly\", \"example\", \"except\", \"ey\", \"f\", \"f2\", \"fa\", \"far\", \"fc\", \"few\", \"ff\", \"fi\", \"fifteen\", \"fifth\", \"fify\", \"fill\", \"find\", \"fire\", \"first\", \"five\", \"fix\", \"fj\", \"fl\", \"fn\", \"fo\", \"followed\", \"following\", \"follows\", \"for\", \"former\", \"formerly\", \"forth\", \"forty\", \"found\", \"four\", \"fr\", \"from\", \"front\", \"fs\", \"ft\", \"fu\", \"full\", \"further\", \"furthermore\", \"fy\", \"g\", \"ga\", \"gave\", \"ge\", \"get\", \"gets\", \"getting\", \"gi\", \"give\", \"given\", \"gives\", \"giving\", \"gj\", \"gl\", \"go\", \"goes\", \"going\", \"gone\", \"got\", \"gotten\", \"gr\", \"greetings\", \"gs\", \"gy\", \"h\", \"h2\", \"h3\", \"had\", \"hadn\", \"hadn't\", \"happens\", \"hardly\", \"has\", \"hasn\", \"hasnt\", \"hasn't\", \"have\", \"haven\", \"haven't\", \"having\", \"he\", \"hed\", \"he'd\", \"he'll\", \"hello\", \"help\", \"hence\", \"her\", \"here\", \"hereafter\", \"hereby\", \"herein\", \"heres\", \"here's\", \"hereupon\", \"hers\", \"herself\", \"hes\", \"he's\", \"hh\", \"hi\", \"hid\", \"him\", \"himself\", \"his\", \"hither\", \"hj\", \"ho\", \"home\", \"hopefully\", \"how\", \"howbeit\", \"however\", \"how's\", \"hr\", \"hs\", \"http\", \"hu\", \"hundred\", \"hy\", \"i\", \"i2\", \"i3\", \"i4\", \"i6\", \"i7\", \"i8\", \"ia\", \"ib\", \"ibid\", \"ic\", \"id\", \"i'd\", \"ie\", \"if\", \"ig\", \"ignored\", \"ih\", \"ii\", \"ij\", \"il\", \"i'll\", \"im\", \"i'm\", \"immediate\", \"immediately\", \"importance\", \"important\", \"in\", \"inasmuch\", \"inc\", \"indeed\", \"index\", \"indicate\", \"indicated\", \"indicates\", \"information\", \"inner\", \"insofar\", \"instead\", \"interest\", \"into\", \"invention\", \"inward\", \"io\", \"ip\", \"iq\", \"ir\", \"is\", \"isn\", \"isn't\", \"it\", \"itd\", \"it'd\", \"it'll\", \"its\", \"it's\", \"itself\", \"iv\", \"i've\", \"ix\", \"iy\", \"iz\", \"j\", \"jj\", \"jr\", \"js\", \"jt\", \"ju\", \"just\", \"k\", \"ke\", \"keep\", \"keeps\", \"kept\", \"kg\", \"kj\", \"km\", \"know\", \"known\", \"knows\", \"ko\", \"l\", \"l2\", \"la\", \"largely\", \"last\", \"lately\", \"later\", \"latter\", \"latterly\", \"lb\", \"lc\", \"le\", \"least\", \"les\", \"less\", \"lest\", \"let\", \"lets\", \"let's\", \"lf\", \"like\", \"liked\", \"likely\", \"line\", \"little\", \"lj\", \"ll\", \"ll\", \"ln\", \"lo\", \"look\", \"looking\", \"looks\", \"los\", \"lr\", \"ls\", \"lt\", \"ltd\", \"m\", \"m2\", \"ma\", \"made\", \"mainly\", \"make\", \"makes\", \"many\", \"may\", \"maybe\", \"me\", \"mean\", \"means\", \"meantime\", \"meanwhile\", \"merely\", \"mg\", \"might\", \"mightn\", \"mightn't\", \"mill\", \"million\", \"mine\", \"miss\", \"ml\", \"mn\", \"mo\", \"more\", \"moreover\", \"most\", \"mostly\", \"move\", \"mr\", \"mrs\", \"ms\", \"mt\", \"mu\", \"much\", \"mug\", \"must\", \"mustn\", \"mustn't\", \"my\", \"myself\", \"n\", \"n2\", \"na\", \"name\", \"namely\", \"nay\", \"nc\", \"nd\", \"ne\", \"near\", \"nearly\", \"necessarily\", \"necessary\", \"need\", \"needn\", \"needn't\", \"needs\", \"neither\", \"never\", \"nevertheless\", \"new\", \"next\", \"ng\", \"ni\", \"nine\", \"ninety\", \"nj\", \"nl\", \"nn\", \"no\", \"nobody\", \"non\", \"none\", \"nonetheless\", \"noone\", \"nor\", \"normally\", \"nos\", \"not\", \"noted\", \"nothing\", \"novel\", \"now\", \"nowhere\", \"nr\", \"ns\", \"nt\", \"ny\", \"o\", \"oa\", \"ob\", \"obtain\", \"obtained\", \"obviously\", \"oc\", \"od\", \"of\", \"off\", \"often\", \"og\", \"oh\", \"oi\", \"oj\", \"ok\", \"okay\", \"ol\", \"old\", \"om\", \"omitted\", \"on\", \"once\", \"one\", \"ones\", \"only\", \"onto\", \"oo\", \"op\", \"oq\", \"or\", \"ord\", \"os\", \"ot\", \"other\", \"others\", \"otherwise\", \"ou\", \"ought\", \"our\", \"ours\", \"ourselves\", \"out\", \"outside\", \"over\", \"overall\", \"ow\", \"owing\", \"own\", \"ox\", \"oz\", \"p\", \"p1\", \"p2\", \"p3\", \"page\", \"pagecount\", \"pages\", \"par\", \"part\", \"particular\", \"particularly\", \"pas\", \"past\", \"pc\", \"pd\", \"pe\", \"per\", \"perhaps\", \"pf\", \"ph\", \"pi\", \"pj\", \"pk\", \"pl\", \"placed\", \"please\", \"plus\", \"pm\", \"pn\", \"po\", \"poorly\", \"possible\", \"possibly\", \"potentially\", \"pp\", \"pq\", \"pr\", \"predominantly\", \"present\", \"presumably\", \"previously\", \"primarily\", \"probably\", \"promptly\", \"proud\", \"provides\", \"ps\", \"pt\", \"pu\", \"put\", \"py\", \"q\", \"qj\", \"qu\", \"que\", \"quickly\", \"quite\", \"qv\", \"r\", \"r2\", \"ra\", \"ran\", \"rather\", \"rc\", \"rd\", \"re\", \"readily\", \"really\", \"reasonably\", \"recent\", \"recently\", \"ref\", \"refs\", \"regarding\", \"regardless\", \"regards\", \"related\", \"relatively\", \"research\", \"research-articl\", \"respectively\", \"resulted\", \"resulting\", \"results\", \"rf\", \"rh\", \"ri\", \"right\", \"rj\", \"rl\", \"rm\", \"rn\", \"ro\", \"rq\", \"rr\", \"rs\", \"rt\", \"ru\", \"run\", \"rv\", \"ry\", \"s\", \"s2\", \"sa\", \"said\", \"same\", \"saw\", \"say\", \"saying\", \"says\", \"sc\", \"sd\", \"se\", \"sec\", \"second\", \"secondly\", \"section\", \"see\", \"seeing\", \"seem\", \"seemed\", \"seeming\", \"seems\", \"seen\", \"self\", \"selves\", \"sensible\", \"sent\", \"serious\", \"seriously\", \"seven\", \"several\", \"sf\", \"shall\", \"shan\", \"shan't\", \"she\", \"shed\", \"she'd\", \"she'll\", \"shes\", \"she's\", \"should\", \"shouldn\", \"shouldn't\", \"should've\", \"show\", \"showed\", \"shown\", \"showns\", \"shows\", \"si\", \"side\", \"significant\", \"significantly\", \"similar\", \"similarly\", \"since\", \"sincere\", \"six\", \"sixty\", \"sj\", \"sl\", \"slightly\", \"sm\", \"sn\", \"so\", \"some\", \"somebody\", \"somehow\", \"someone\", \"somethan\", \"something\", \"sometime\", \"sometimes\", \"somewhat\", \"somewhere\", \"soon\", \"sorry\", \"sp\", \"specifically\", \"specified\", \"specify\", \"specifying\", \"sq\", \"sr\", \"ss\", \"st\", \"still\", \"stop\", \"strongly\", \"sub\", \"substantially\", \"successfully\", \"such\", \"sufficiently\", \"suggest\", \"sup\", \"sure\", \"sy\", \"system\", \"sz\", \"t\", \"t1\", \"t2\", \"t3\", \"take\", \"taken\", \"taking\", \"tb\", \"tc\", \"td\", \"te\", \"tell\", \"ten\", \"tends\", \"tf\", \"th\", \"than\", \"thank\", \"thanks\", \"thanx\", \"that\", \"that'll\", \"thats\", \"that's\", \"that've\", \"the\", \"their\", \"theirs\", \"them\", \"themselves\", \"then\", \"thence\", \"there\", \"thereafter\", \"thereby\", \"thered\", \"therefore\", \"therein\", \"there'll\", \"thereof\", \"therere\", \"theres\", \"there's\", \"thereto\", \"thereupon\", \"there've\", \"these\", \"they\", \"theyd\", \"they'd\", \"they'll\", \"theyre\", \"they're\", \"they've\", \"thickv\", \"thin\", \"think\", \"third\", \"this\", \"thorough\", \"thoroughly\", \"those\", \"thou\", \"though\", \"thoughh\", \"thousand\", \"three\", \"throug\", \"through\", \"throughout\", \"thru\", \"thus\", \"ti\", \"til\", \"tip\", \"tj\", \"tl\", \"tm\", \"tn\", \"to\", \"together\", \"too\", \"took\", \"top\", \"toward\", \"towards\", \"tp\", \"tq\", \"tr\", \"tried\", \"tries\", \"truly\", \"try\", \"trying\", \"ts\", \"t's\", \"tt\", \"tv\", \"twelve\", \"twenty\", \"twice\", \"two\", \"tx\", \"u\", \"u201d\", \"ue\", \"ui\", \"uj\", \"uk\", \"um\", \"un\", \"under\", \"unfortunately\", \"unless\", \"unlike\", \"unlikely\", \"until\", \"unto\", \"uo\", \"up\", \"upon\", \"ups\", \"ur\", \"us\", \"use\", \"used\", \"useful\", \"usefully\", \"usefulness\", \"uses\", \"using\", \"usually\", \"ut\", \"v\", \"va\", \"value\", \"various\", \"vd\", \"ve\", \"ve\", \"very\", \"via\", \"viz\", \"vj\", \"vo\", \"vol\", \"vols\", \"volumtype\", \"vq\", \"vs\", \"vt\", \"vu\", \"w\", \"wa\", \"want\", \"wants\", \"was\", \"wasn\", \"wasnt\", \"wasn't\", \"way\", \"we\", \"wed\", \"we'd\", \"welcome\", \"well\", \"we'll\", \"well-b\", \"went\", \"were\", \"we're\", \"weren\", \"werent\", \"weren't\", \"we've\", \"what\", \"whatever\", \"what'll\", \"whats\", \"what's\", \"when\", \"whence\", \"whenever\", \"when's\", \"where\", \"whereafter\", \"whereas\", \"whereby\", \"wherein\", \"wheres\", \"where's\", \"whereupon\", \"wherever\", \"whether\", \"which\", \"while\", \"whim\", \"whither\", \"who\", \"whod\", \"whoever\", \"whole\", \"who'll\", \"whom\", \"whomever\", \"whos\", \"who's\", \"whose\", \"why\", \"why's\", \"wi\", \"widely\", \"will\", \"willing\", \"wish\", \"with\", \"within\", \"without\", \"wo\", \"won\", \"wonder\", \"wont\", \"won't\", \"words\", \"world\", \"would\", \"wouldn\", \"wouldnt\", \"wouldn't\", \"www\", \"x\", \"x1\", \"x2\", \"x3\", \"xf\", \"xi\", \"xj\", \"xk\", \"xl\", \"xn\", \"xo\", \"xs\", \"xt\", \"xv\", \"xx\", \"y\", \"y2\", \"yes\", \"yet\", \"yj\", \"yl\", \"you\", \"youd\", \"you'd\", \"you'll\", \"your\", \"youre\", \"you're\", \"yours\", \"yourself\", \"yourselves\", \"you've\", \"yr\", \"ys\", \"yt\", \"z\", \"zero\", \"zi\", \"zz\"] #modify stop words and add more to the list (found from https://gist.github.com/sebleier/554280)\n",
    "Stopwords = Stop_words + New_stop_words #combine two stop words list, now it contains 1339 stop words\n",
    "Stopwords.extend([\",\",\".\",\"'s\",':','https','covidsaf']) #now it contains 1345 stop words\n",
    "\n",
    "df_stopwordsed = df_stemming.apply(lambda x: [word for word in x if word not in Stopwords]) #keep word that is not in Stopwords"
   ]
  },
  {
   "cell_type": "code",
   "execution_count": 10,
   "metadata": {},
   "outputs": [],
   "source": [
    "#additional filtering\n",
    "df_wordlengthed = df_stopwordsed.apply(lambda x: [word for word in x if len(word) >2]) #filter out words with less than 3 letters\n",
    "\n",
    "import re #regular expression operation library\n",
    "df_newlined = df_wordlengthed.apply(lambda x: [re.sub('\\s+', ' ', sent) for sent in x]) # Remove new line characters\n",
    "df_singlequoted = df_newlined.apply(lambda x: [re.sub(\"\\'\", \"\", sent) for sent in x]) # Remove distracting single quotes"
   ]
  },
  {
   "cell_type": "code",
   "execution_count": 11,
   "metadata": {},
   "outputs": [
    {
     "name": "stderr",
     "output_type": "stream",
     "text": [
      "<ipython-input-11-74848ff7e2bc>:4: SettingWithCopyWarning: \n",
      "A value is trying to be set on a copy of a slice from a DataFrame.\n",
      "Try using .loc[row_indexer,col_indexer] = value instead\n",
      "\n",
      "See the caveats in the documentation: https://pandas.pydata.org/pandas-docs/stable/user_guide/indexing.html#returning-a-view-versus-a-copy\n",
      "  df_enriched[\"Processed_Review\"]= df_enriching #add new column 'Processed_Review' into df_enriched with df_enriching's data\n"
     ]
    }
   ],
   "source": [
    "#Enriching data:\n",
    "df_enriching = df_singlequoted.apply(lambda x:\" \".join(x)) #join words in df_stopwordsed list and separate by single space and store into df_enriching (convert list to string)\n",
    "df_enriched = df_cleaned #store data cleaned into df_enriched\n",
    "df_enriched[\"Processed_Review\"]= df_enriching #add new column 'Processed_Review' into df_enriched with df_enriching's data"
   ]
  },
  {
   "cell_type": "markdown",
   "metadata": {},
   "source": [
    "# Text analytics"
   ]
  },
  {
   "cell_type": "raw",
   "metadata": {},
   "source": [
    "After extracting meaningful words from review text, use TF-IDF term weighting and vectorizing. Then run the classification algorithm (model part). After that construct a user similarity matrix adn calculate the cosine similarity between each user use KNN model (convert to a unique integers sequence). \n",
    "1) The original reviews\n",
    "2) The scores they got (the ground truth)\n",
    "3) The predictions from the first step (NLP approach)\n",
    "4) The predictions from the second step (users similarity approach)\n",
    "combine 3 and 4, simple arithmetic average\n",
    "5) The arithmetic average of each row in columns 3) and 4)\n",
    "Namvar, M. et al. (2021) Moderating Effects of Time-Related Factors in Predicting the Helpfulness of Online Reviews: a Deep Learning Approach."
   ]
  },
  {
   "cell_type": "code",
   "execution_count": 12,
   "metadata": {},
   "outputs": [
    {
     "data": {
      "image/png": "[encoded data removed]",
      "text/plain": [
       "<PIL.Image.Image image mode=RGB size=400x200 at 0x1D1C8915760>"
      ]
     },
     "execution_count": 12,
     "metadata": {},
     "output_type": "execute_result"
    }
   ],
   "source": [
    "#wordclouding:\n",
    "from wordcloud import WordCloud\n",
    "Word_cloud = WordCloud(background_color=\"white\", max_words=40)\n",
    "\n",
    "df_enriching_long_string =','.join(list(df_enriching.values)) # Join all reviews together into 1 long string\n",
    "\n",
    "Word_cloud.generate(df_enriching_long_string)\n",
    "Word_cloud.to_image() # Generate wordcloud and visualize"
   ]
  },
  {
   "cell_type": "code",
   "execution_count": 13,
   "metadata": {},
   "outputs": [],
   "source": [
    "#LDA analysis\n",
    "df_LDA = df_singlequoted #store df_singlequoted as df_LDA (data for LDA analysis)"
   ]
  },
  {
   "cell_type": "code",
   "execution_count": 14,
   "metadata": {},
   "outputs": [],
   "source": [
    "import warnings\n",
    "warnings.filterwarnings(action='ignore', category=UserWarning, module='gensim') #suppress the warning message\n",
    "import gensim.corpora as corpora"
   ]
  },
  {
   "cell_type": "code",
   "execution_count": 15,
   "metadata": {},
   "outputs": [],
   "source": [
    "import gensim.corpora as corpora\n",
    "# Create Dictionary\n",
    "id2word = corpora.Dictionary(df_LDA)\n",
    "# Create Corpus\n",
    "texts = df_LDA\n",
    "# Term Document Frequency\n",
    "corpus = [id2word.doc2bow(text) for text in texts]"
   ]
  },
  {
   "cell_type": "code",
   "execution_count": 16,
   "metadata": {},
   "outputs": [],
   "source": [
    "# Build LDA model\n",
    "from gensim import models\n",
    "num_topics = 5\n",
    "LDA_model = models.LdaMulticore(corpus=corpus, id2word=id2word, num_topics=num_topics)"
   ]
  },
  {
   "cell_type": "code",
   "execution_count": 17,
   "metadata": {},
   "outputs": [
    {
     "data": {
      "text/html": [
       "\n",
       "<link rel=\"stylesheet\" type=\"text/css\" href=\"https://cdn.jsdelivr.net/gh/bmabey/pyLDAvis@3.3.1/pyLDAvis/js/ldavis.v1.0.0.css\">\n",
       "\n",
       "\n",
       "<div id=\"ldavis_el3086020006525853286771846073\"></div>\n",
       "<script type=\"text/javascript\">\n",
       "\n",
       "var ldavis_el3086020006525853286771846073_data = {\"mdsDat\": {\"x\": [0.006104800371482244, 0.03805518227767465, 0.046304955668850976, -0.00466744634509582, -0.08579749197291202], \"y\": [-0.03047022024456052, 0.017809498033832905, 0.037405927117018664, -0.0535792302921408, 0.02883402538584964], \"topics\": [1, 2, 3, 4, 5], \"cluster\": [1, 1, 1, 1, 1], \"Freq\": [31.054637678366266, 26.2247451839759, 18.53803979534972, 18.348865389619064, 5.833711952689056]}, \"tinfo\": {\"Term\": [\"number\", \"good\", \"work\", \"batteri\", \"phone\", \"invalid\", \"nt\", \"veri\", \"easi\", \"doe\", \"safe\", \"mobil\", \"accept\", \"tri\", \"great\", \"regist\", \"australia\", \"bluetooth\", \"pin\", \"drain\", \"registr\", \"start\", \"open\", \"notif\", \"locat\", \"quot\", \"instal\", \"fine\", \"contact\", \"initi\", \"alot\", \"organis\", \"earpiec\", \"handsfre\", \"check-in\", \"prosecut\", \"mandat\", \"steal\", \"interupt\", \"impract\", \"cgm\", \"pictur\", \"skeptic\", \"treat\", \"4.0+\", \"froze\", \"garmin\", \"2018\", \"echo\", \"stubborn\", \"car\", \"infring\", \"realiz\", \"owe\", \"dropout\", \"mygovid\", \"reveal\", \"interfer\", \"asian\", \"jon\", \"regular\", \"music\", \"privat\", \"connect\", \"data\", \"day\", \"bluetooth\", \"safe\", \"covid\", \"privaci\", \"listen\", \"drop\", \"app\", \"whi\", \"issu\", \"devic\", \"uninstal\", \"remind\", \"speaker\", \"headset\", \"eas\", \"caus\", \"...\", \"delet\", \"famili\", \"alway\", \"virus\", \"govern\", \"australian\", \"idea\", \"turn\", \"download\", \"peopl\", \"background\", \"it\\u00e2\\u20ac\\u2122\", \"work\", \"great\", \"nt\", \"onli\", \"phone\", \"notif\", \"time\", \"batteri\", \"quot\", \"instal\", \"regist\", \"number\", \"doe\", \"number\\u00e2\\u20ac\\u009d\", \"27th\", \"husband\\u00e2\\u20ac\\u2122\", \"guyana\", \"deem\", \"+61408\", \"buffer\", \"\\u00f0\\u00ff\\u00a4\\u00aa\", \"nightmar\", \"24-7\", \"peac\", \"gay\", \"\\u00e2\\u20ac\\u0153error\", \"2pm\", \"10min\", \"peasi\", \"bombard\", \"dropdown\", \"smss\", \"chew\", \"recognis\", \"rollout\", \"scale\", \"8.0\", \"8.15pm\", \"61+\", \"reinstat\", \"\\u00ed\\u00a1\\u00e2\\u00b0\", \"9:55pm\", \"inadvert\", \"confer\", \"school\", \"invalid\", \"pin\", \"dozen\", \"resend\", \"ok.\", \"percent\", \"bewar\", \"tri\", \"bright\", \"dot\", \"easi\", \"multipl\", \"nt\", \"told\", \"number\", \"instal\", \"doesnt\", \"time\", \"straight\", \"experi\", \"sign\", \"error\", \"mayb\", \"phone\", \"good\", \"thing\", \"requir\", \"press\", \"leav\", \"recogn\", \"unabl\", \"messag\", \"mani\", \"quick\", \"batteri\", \"mobil\", \"app\", \"doe\", \"updat\", \"hope\", \"work\", \"everyon\", \"enter\", \"idea\", \"quot\", \"issu\", \"turn\", \"everi\", \"set\", \"regist\", \"bluetooth\", \"veri\", \"peopl\", \"download\", \"drain\", \"notif\", \"pleas\", \"yrs\", \"invaild\", \"men\", \"geez\", \"drink\", \"worthless\", \"auburn\", \"format\", \"popup\", \"women\", \"bandaid\", \"hotspot/transmiss\", \"realm\", \"consult\", \"app\\u00e2\\u20ac\\u2122\", \"reviv\", \"numbr\", \"hahaha\", \"seper\", \"topic\", \"here\\u00e2\\u20ac\\u2122\", \"materi\", \"sincer\", \"oral\", \"ahuh\", \"raffl\", \"attemp\", \"soooner\", \"7.1.1\", \"chook\", \"victorian\", \"accept\", \"\\u00f0\\u00ff\\u00a4\", \"admit\", \"cv-19\", \"hacker\", \"joy\", \"mobil\", \"reject\", \"number\", \"max\", \"valid\", \"+61\", \"necessari\", \"identifi\", \"inhibit\", \".....\", \"complain\", \"enter\", \"intern\", \"regist\", \"phone\", \"doe\", \"inform\", \"quot\", \"code\", \"invalid\", \"complet\", \"download\", \"problem\", \"australian\", \"iphon\", \"onli\", \"app\", \"registr\", \"android\", \"nt\", \"tri\", \"check\", \"bit\", \"veri\", \"work\", \"pin\", \"bluetooth\", \"time\", \"life\", \"turn\", \"instal\", \"updat\", \"batteri\", \"locat\", \"issu\", \"\\u017e\\u00f0\\u00ff\\u008f\", \"\\u00e2\\u20ac\\u00a2\", \"lunch\", \"toooooo\", \"expiri\", \"dark\", \"acc\", \"drawback\", \"rtfm\", \"18:03\", \"\\u00e2\\u20ac\\u2122\", \"self-centr\", \"nay-say\", \"temp\", \"bland\", \"clap\", \"fear-mong\", \"dosnt\", \"unsustain\", \"family\\u00e2\\u20ac\\u2122\", \"non-start\", \"march\", \"cam\", \"unintrus\", \"\\u00e2\\u2122\\u00a7\", \"autoic\", \"always-on\", \"sign-up\", \"qrcode\", \"nonsens\", \"zdx\", \"thneed\", \"initi\", \"agent\", \"dvd\", \"tendenc\", \"star\", \"great\", \"widget\", \"notif\", \"drain\", \"batteri\", \"locat\", \"instruct\", \"usag\", \"trace\", \"contact\", \"level\", \"work\", \"volum\", \"longer\", \"track\", \"simpl\", \"don\\u00e2\\u20ac\\u2122t\", \"pleas\", \"becom\", \"fantast\", \"befor\", \"live\", \"peopl\", \"activ\", \"app\", \"doesn\\u00e2\\u20ac\\u2122t\", \"optimis\", \"download\", \"phone\", \"...\", \"updat\", \"instal\", \"latest\", \"abl\", \"govern\", \"australia\", \"open\", \"onli\", \"turn\", \"becaus\", \"nt\", \"uninstal\", \"regist\", \"easi\", \"time\", \"day\", \"number\", \"kristin\", \"hound\", \"kasperski\", \"gun\", \"nevill\", \"greg\", \"7mu\", \"dosent\", \"brevill\", \"r7+\", \"peep\", \"kimjog\", \"virus-us\", \"karma\", \"murder\", \"sandwich\", \"ozzi\", \"corvid19\", \"lauch\", \"underground\", \"vic.it\", \"bunker\", \"westmeadow\", \"government.tk\", \"app.i\", \"\\u00e2\\u20ac\\u0153old\\u00e2\\u20ac\\u009d\", \"diff\", \"violence.if\", \"fritz\", \"abuser.wel\", \"spead\", \"\\u00f0\\u00ff\\u02dc\\u0081\", \"splash\", \"flash\", \"err\", \"null\", \"bat\", \"protocol\", \"xz2\", \"herald\", \"domest\", \"disclos\", \"super\", \"good\", \"tin\", \"veri\", \"australia\", \"start\", \"economi\", \"foil\", \"mandatori\", \"stay\", \"dvd\", \"registr\", \"work\", \"easi\", \"safe\", \"6pm\", \"doe\", \"batteri\", \"open\", \"fine\", \"thing\", \"regist\", \"nt\", \"screen\", \"useless\", \"someth\", \"app\", \"updat\", \"spread\", \"drain\", \"virus\", \"turn\", \"hope\", \"bluetooth\", \"contact\", \"instal\", \"pin\", \"phone\", \"tri\", \"quot\", \"problem\", \"peopl\", \"locat\", \"great\"], \"Freq\": [2174.0, 663.0, 1910.0, 1387.0, 2787.0, 764.0, 2091.0, 517.0, 748.0, 826.0, 531.0, 749.0, 358.0, 985.0, 732.0, 813.0, 280.0, 1304.0, 394.0, 480.0, 351.0, 257.0, 401.0, 708.0, 612.0, 588.0, 1081.0, 297.0, 384.0, 242.0, 10.006187137372844, 5.50788005511969, 4.443155463991232, 6.190578083385732, 11.366450764925407, 4.315272108686831, 5.146185268763994, 8.685140505620367, 5.093460907526278, 8.499670277477863, 5.036424866080405, 4.218701668596893, 3.38788797807241, 3.3873244005817194, 3.3859825613145276, 3.3852447871448965, 5.033773177753918, 3.3194921638175106, 4.134075322457105, 4.160453748103411, 124.42072320527078, 3.2656706384183165, 3.25115583135542, 3.233511482235571, 10.095617762937708, 5.483157622579067, 3.142939456049873, 78.14276874257675, 2.3309577511134263, 2.330110760374646, 30.883178755450484, 73.52669370872572, 24.143705687105104, 293.6565126587485, 307.7510783562147, 319.97978318786363, 773.8239349106611, 328.65024918530514, 179.8891444947767, 213.10891202770105, 37.007224204267835, 102.92107218129233, 2443.413614724845, 208.4777056255146, 341.16929714382985, 176.48513045284207, 269.7270054061717, 41.106449444226335, 33.93026205277113, 23.58613635733531, 29.78319545690223, 117.06711812081721, 217.92398214977717, 152.8698630124403, 65.05329938825949, 71.25941171666135, 113.28937847512252, 206.79292533149996, 119.08945109101205, 154.58457014594285, 271.8187171397438, 374.28479259411296, 264.3660863667441, 140.72457264788355, 119.85612841347846, 494.8530710206969, 245.51105783208254, 484.9645458673583, 196.41019945146007, 504.1509929558358, 217.78874354589138, 240.92183857776126, 288.2752798373062, 175.82171752146812, 213.38052488785297, 183.37454162560206, 212.00088319186662, 178.46246119807742, 4.049105939590689, 3.7966420133641843, 2.522302270386437, 2.5216752313842394, 2.520973479555795, 2.520279536695066, 2.5184505498243004, 2.5175472422075362, 2.5120178599057597, 2.4499101849236875, 12.35062619271117, 2.9520954012832727, 4.6829155278505175, 2.348096019642568, 2.3583426516037593, 4.0764782709104574, 1.7356316114721937, 1.7354511610020222, 1.7352872782065978, 33.94220749470118, 63.158937632760455, 1.7346942187666194, 1.7346945353463916, 1.7344881253348974, 1.7342959614131535, 1.7342964890461072, 1.7340697124025994, 1.7338442020781806, 1.7337550321090025, 1.733713243579068, 4.097112940464436, 6.174428783525155, 450.22947968566064, 235.3239056432442, 5.565366025007396, 6.712942795067271, 5.138513075981855, 5.050442271772803, 6.229692214884786, 539.404818056834, 2.832310690758084, 11.196015020112336, 381.18468417389033, 37.482994379318725, 957.1009056911533, 34.671553260305615, 987.4966700759732, 497.3704263618147, 27.43070187606595, 411.1103909129024, 29.204090585126387, 23.057240965038858, 107.45939889527786, 93.69222764748804, 43.35611139986859, 1010.0595451339733, 268.952829172197, 108.49917181076601, 112.674080642352, 15.598599581759176, 87.07234368752108, 17.95978153181348, 79.29902201064435, 81.46910796805311, 112.88491095167929, 71.58005412591505, 413.6598052860358, 247.36513462559728, 1263.8985621938612, 258.440692308695, 209.38272088186235, 115.71180791727906, 458.68376360839227, 111.57151180745694, 96.95266499322193, 124.25517316685271, 170.22735122299375, 185.7825582706392, 187.66284288348461, 113.98438659114647, 117.01505624768461, 184.42549644423084, 235.48485986472247, 142.48465702665018, 166.917875248435, 203.25418223580064, 130.55302711723053, 128.85918519648524, 118.6232207072989, 4.624103623427895, 3.757377280977093, 2.871933059214366, 2.8691231842007303, 2.867554285101049, 2.8660152243258197, 2.8656840189244037, 24.346471031499224, 4.71341957515952, 1.975037186910242, 1.9744784642848803, 1.9744308721573793, 1.974445642127983, 1.9742601969415146, 1.9742424431384655, 1.9739049716889145, 1.973610915001441, 1.9738282871950732, 1.9737574211745, 1.9735487020949587, 1.9729795360560387, 1.9723551691168826, 1.9724613935519313, 1.972478998163358, 1.9723554675001271, 1.9722164209081812, 1.9720672292859216, 1.9716208479521211, 1.9706782552826854, 1.9700259895101666, 3.3090680930337326, 225.65686886699243, 10.552432053917782, 2.619472487943007, 2.612978475009294, 4.4002642713540485, 3.624945845562196, 334.7074754286987, 18.99992428350772, 853.864262957354, 3.1875040737674643, 54.21931484419777, 31.789306876793468, 19.114674124618908, 13.504768357349988, 4.175438165890578, 16.27235888463875, 20.8604906176404, 100.7942992186765, 17.29843560529198, 270.03106913840486, 777.4113145137007, 270.71140203243596, 92.82657860148174, 190.27090765034907, 91.21309388387147, 231.10705605113517, 50.01462706399672, 300.8979325694985, 131.33369539364128, 87.59077858499296, 71.2752543866691, 161.73576843828053, 983.3695804077483, 105.18981382554429, 79.06306184274864, 364.2646608005535, 202.85208199620834, 55.187327379000564, 49.23153575468514, 114.22571781332583, 274.06817056608827, 92.85012462007323, 192.58359263130788, 147.11247826346042, 71.57010477357306, 118.8148234692376, 135.45493612214716, 100.0375038279379, 115.3762263146084, 89.0015727581344, 89.331283856262, 11.104948582712286, 6.806062704098224, 3.506566048202163, 3.505241160387583, 3.4995488091307365, 3.491287014274504, 4.864718115890429, 2.415648519060518, 2.415598902218599, 2.415363665227, 2.4153446159037633, 2.4151941410171096, 2.4150454381605244, 2.4139621371119557, 2.413879590044596, 2.4133964165125734, 2.4128485638830495, 2.4126227777184828, 2.4121651509532818, 2.4117113635865626, 2.409320156678237, 2.408601303147099, 2.407631855030434, 2.407656515782221, 2.4049491491758337, 2.381353682798162, 4.700454472596718, 4.597003357195233, 2.339792341901404, 5.37259433774506, 12.115475900426107, 24.49697604286202, 134.0026999894589, 6.500810441784412, 14.249399400392846, 4.6082176494840015, 102.39980540242024, 308.81870200930797, 6.38413171259795, 275.5346470556421, 195.06909599742457, 482.7261676740682, 232.23651468028547, 24.594605448811656, 51.273779816121014, 89.89513263127334, 143.85643467972093, 21.661697218006886, 557.4480353084136, 7.031444845809329, 35.32212580316503, 106.32801330588316, 78.59232153381441, 55.71921730681702, 133.8385863780443, 24.71580994279317, 21.16020562048921, 65.53737435871626, 87.72705620511891, 189.03436490426807, 94.59950860641175, 895.4084002748932, 48.25774683615432, 48.767250372288565, 235.20692851816762, 445.62407310765406, 130.33259417224602, 151.38483118201233, 196.71730133019042, 63.89032675226186, 62.63460954073077, 113.23974334432192, 78.83444699696648, 96.17873235266939, 113.71870180748802, 130.78010973387592, 86.48349748256477, 194.92822196968223, 106.66886683362736, 120.86483125798001, 107.53018685686318, 106.49131414617297, 93.75288461921103, 95.10765122345335, 3.066879240698203, 2.1097680380423434, 2.1094177990980536, 2.10842022844279, 2.1081503660497907, 2.1052010348862145, 2.1033213879192467, 2.0966521999146575, 1.892458012706085, 1.844660631675137, 3.461769237186311, 1.8084215113971094, 1.794011573234517, 1.7617375709563456, 2.9592569164776066, 1.7518578279964876, 2.2107784519409286, 1.1512209496127368, 1.15115775636622, 1.1511331551320636, 1.1511158779294497, 1.1510662059719352, 1.1510594453274343, 1.1510134353856911, 1.1509966276722787, 1.151004421193023, 1.1509866745012078, 1.150767516941966, 1.1506480788891145, 1.1506400975726896, 1.7249850172876005, 3.0527023569752156, 2.105461883086546, 9.676719303126522, 2.9811268502557287, 9.683412341182544, 5.140151817358521, 6.308775792691002, 2.1105541507612693, 5.70759524581196, 2.1090555412302066, 2.108267174963114, 15.303397897271052, 124.74361435323198, 9.612468391336863, 78.04535486741497, 47.74647788495151, 44.03393455892291, 7.084585289397193, 6.661271289878572, 6.125719323901954, 30.95855363029634, 7.130687626615187, 42.5118580796146, 125.50994091925138, 68.82331294483009, 52.8988762342323, 22.1388181312172, 64.4928166640981, 87.6598867576901, 41.27008693551182, 34.36701218086111, 28.51362213401891, 54.518798770221345, 90.41919723745826, 27.019213216739722, 26.62768776766496, 16.32289557619973, 120.31865534280065, 40.120741313565404, 16.75615072786576, 32.19218495841987, 23.07900443595608, 38.94778752102137, 24.8389789810631, 42.701035936407976, 26.273195626801417, 38.25184377135406, 26.49746573565149, 49.841914107834384, 33.774689580643866, 29.35716427443279, 26.40482988233288, 28.10184179401905, 27.02903868674789, 26.642843630270832], \"Total\": [2174.0, 663.0, 1910.0, 1387.0, 2787.0, 764.0, 2091.0, 517.0, 748.0, 826.0, 531.0, 749.0, 358.0, 985.0, 732.0, 813.0, 280.0, 1304.0, 394.0, 480.0, 351.0, 257.0, 401.0, 708.0, 612.0, 588.0, 1081.0, 297.0, 384.0, 242.0, 11.35799186941704, 6.261068869138095, 5.20047338975149, 7.333640464686745, 13.572721585303448, 5.178637400771199, 6.20619355270099, 10.538929633617913, 6.197421682840119, 10.342044516874937, 6.141266498709289, 5.147209999676093, 4.140934454669191, 4.140810123695192, 4.140683896479208, 4.140603147482236, 6.189131885322269, 4.130422340907247, 5.15300899938743, 5.211425806336947, 155.89747705268397, 4.122212589057425, 4.105936060748795, 4.115361090502174, 13.131054679940426, 7.155878602502286, 4.103473019361502, 103.23491400176992, 3.0812687123601945, 3.081168143759501, 41.45115523346352, 100.32262665635423, 32.62402537789693, 441.43868814527536, 479.89267618836493, 512.282671193347, 1304.841462787518, 531.2840426740098, 288.92260702372727, 355.4241501621466, 55.12185130707147, 170.14955948342262, 5706.408812944148, 390.44052999987395, 692.3244124027714, 345.43480589039586, 564.5843102649142, 67.12214149827936, 54.0307152192251, 36.20868150866544, 47.571250637645115, 240.58926943132684, 511.57576130973274, 334.7000410351028, 121.14987975117927, 135.4405507175406, 239.1841776871446, 507.1895682356481, 260.126268923593, 363.9429769827127, 748.0242807473633, 1139.9664653769728, 730.0399592122669, 328.0074677317442, 270.2783378196381, 1910.5629814228425, 732.9749833990859, 2091.6775315662053, 571.0228135101148, 2787.0878398189984, 708.070304480678, 913.5679240232878, 1387.6973658697088, 588.8657749329525, 1081.1750324733594, 813.2147372364391, 2174.3652748852082, 826.7427639406545, 4.920880685730101, 4.951711478743202, 3.3306508557768217, 3.3308031783590284, 3.33106793161012, 3.331188880752607, 3.3316571541137265, 3.331862422831705, 3.334178488104673, 3.3555496629861947, 16.93493593133259, 4.173431715642539, 6.630657006720949, 3.371164778738481, 3.3869358624992643, 5.8766985277087125, 2.5404791236396003, 2.5405411874179586, 2.540557776116883, 49.69471101095712, 92.49038959229833, 2.5407340015581177, 2.5407354654577285, 2.540759841487635, 2.540832477569883, 2.5408495324943283, 2.5408611045370892, 2.5409277645694845, 2.540987938371289, 2.541030915627631, 6.009117871096382, 9.226545680593906, 764.9843650428342, 394.7465763822638, 8.377863083392594, 10.17045309773181, 7.734881150921811, 7.602804282780207, 9.458931845262315, 985.7124839101251, 4.214936123283182, 17.854181830704995, 748.9000344203646, 64.09794185343138, 2091.6775315662053, 59.20673818904639, 2174.3652748852082, 1081.1750324733594, 47.378806559320005, 913.5679240232878, 50.89549002679533, 39.84886266069034, 221.9345325365985, 191.98265162849836, 80.99853368938984, 2787.0878398189984, 663.9801021599405, 246.4969127494189, 259.1214916429553, 26.83816098580745, 198.08333459922775, 31.8266407160287, 179.2257982478829, 186.58402655817966, 277.5814373806345, 163.8927877349787, 1387.6973658697088, 749.9137384294834, 5706.408812944148, 826.7427639406545, 662.9435960632308, 310.8856864195989, 1910.5629814228425, 298.8960898963492, 248.4196753769645, 363.9429769827127, 588.8657749329525, 692.3244124027714, 748.0242807473633, 331.19111443844747, 347.6600279750471, 813.2147372364391, 1304.841462787518, 517.263182342283, 730.0399592122669, 1139.9664653769728, 480.5618047280754, 708.070304480678, 437.52651115597007, 5.46202794483154, 4.555871204439968, 3.656393564058812, 3.656640436797965, 3.6568002187183537, 3.6571028193748134, 3.6568535387526615, 32.83037635288637, 6.432167297139687, 2.757968618553264, 2.7580139366779886, 2.758026368142486, 2.758057351941908, 2.758044056048148, 2.7580421476682804, 2.75808142093395, 2.757767826195624, 2.7580914393208023, 2.7580886200485755, 2.7581219692228025, 2.758102607187772, 2.757923413585675, 2.758124808713044, 2.7581527079105372, 2.7582195172960344, 2.7581096271040297, 2.758248382047169, 2.758317582386575, 2.7583754115901833, 2.7584339137911917, 4.644656207748588, 358.2618185797565, 15.538317488809028, 3.696867077491725, 3.713659030349497, 6.542139761398138, 5.327708174289454, 749.9137384294834, 32.54810244531214, 2174.3652748852082, 4.68432467992072, 110.75296965289162, 61.288616723117684, 36.104625384697684, 24.382420679333507, 6.452946741462033, 30.34059115147633, 40.43342208236101, 248.4196753769645, 33.199083114215576, 813.2147372364391, 2787.0878398189984, 826.7427639406545, 240.37939751515773, 588.8657749329525, 246.21690936973644, 764.9843650428342, 126.57398934246393, 1139.9664653769728, 421.7897361128444, 260.126268923593, 202.7932329883757, 571.0228135101148, 5706.408812944148, 351.09657291563803, 261.69464415142255, 2091.6775315662053, 985.7124839101251, 166.5388424861432, 143.89838977036376, 517.263182342283, 1910.5629814228425, 394.7465763822638, 1304.841462787518, 913.5679240232878, 267.38879230716947, 748.0242807473633, 1081.1750324733594, 662.9435960632308, 1387.6973658697088, 612.7613758825686, 692.3244124027714, 11.922091804172977, 7.553369989095693, 4.256468204164634, 4.256278988446503, 4.255078878881972, 4.254118516944548, 6.348237734268444, 3.158767832161271, 3.1587563983443077, 3.1586987556656143, 3.1587796415606895, 3.1586783222521038, 3.1586686617730053, 3.15846230121472, 3.1584822055921733, 3.15846082671896, 3.1583038961961405, 3.1582816076513325, 3.158207658332025, 3.158188366929522, 3.1577642389409992, 3.1576332846039303, 3.1572595128958483, 3.157542351541331, 3.1570565324261146, 3.1492986529848714, 6.240367143045173, 6.143811811119441, 3.137468843172858, 7.270007771011341, 16.86472454591784, 37.422763938455034, 242.6975253526615, 9.248412436201717, 21.93457977673986, 6.39990692578629, 206.63133012371063, 732.9749833990859, 9.486556350232439, 708.070304480678, 480.5618047280754, 1387.6973658697088, 612.7613758825686, 46.471866687399306, 109.81972902804412, 212.73676517459612, 384.3536243923575, 41.71394179618127, 1910.5629814228425, 11.25318816308477, 78.03825743498366, 304.1194398700738, 212.82942941594368, 141.27648008283015, 437.52651115597007, 51.13217016016105, 42.43213566245297, 181.79242413954148, 266.69649237092415, 730.0399592122669, 299.28241519837843, 5706.408812944148, 125.20848739053352, 129.29144912886704, 1139.9664653769728, 2787.0878398189984, 511.57576130973274, 662.9435960632308, 1081.1750324733594, 198.8438560063397, 193.4890933020664, 507.1895682356481, 280.73026743524946, 401.8827677496874, 571.0228135101148, 748.0242807473633, 355.86813335005104, 2091.6775315662053, 564.5843102649142, 813.2147372364391, 748.9000344203646, 913.5679240232878, 512.282671193347, 2174.3652748852082, 3.841709220923371, 2.8814957767765006, 2.8815458444097843, 2.881537093755867, 2.8815260890175916, 2.8815358245002525, 2.881560492042718, 2.8809655655702326, 2.904313327481412, 2.9091344371292265, 5.5749075530878525, 2.913041627021954, 2.914528079508663, 2.9178754412292256, 4.921402074764945, 2.9189049220329375, 3.6892220746545266, 1.9214323033600629, 1.921437486377053, 1.9214468330910948, 1.9214300449556658, 1.921446593557073, 1.9214369554869335, 1.921415909091962, 1.9214212031535096, 1.9214528896798768, 1.921427140497324, 1.921430163930722, 1.9214172244584988, 1.9214115774763108, 2.921669841474466, 5.423667596782378, 3.6711783230803103, 19.984464435529766, 5.632539756855042, 21.847961740520336, 10.95841763267941, 13.959241717032619, 3.901323635983622, 12.631643650711133, 3.9412618556602848, 3.9523321045804902, 43.422804406529295, 663.9801021599405, 26.80531803292174, 517.263182342283, 280.73026743524946, 257.4695544055884, 20.37398298976493, 18.936642057088843, 17.172099631186466, 194.44201896830066, 21.93457977673986, 351.09657291563803, 1910.5629814228425, 748.9000344203646, 531.2840426740098, 139.96733359539263, 826.7427639406545, 1387.6973658697088, 401.8827677496874, 297.08023269781404, 246.4969127494189, 813.2147372364391, 2091.6775315662053, 265.5834206010042, 266.821967130089, 109.73427241269212, 5706.408812944148, 662.9435960632308, 121.78850626046179, 480.5618047280754, 239.1841776871446, 748.0242807473633, 310.8856864195989, 1304.841462787518, 384.3536243923575, 1081.1750324733594, 394.7465763822638, 2787.0878398189984, 985.7124839101251, 588.8657749329525, 421.7897361128444, 730.0399592122669, 612.7613758825686, 732.9749833990859], \"Category\": [\"Default\", \"Default\", \"Default\", \"Default\", \"Default\", \"Default\", \"Default\", \"Default\", \"Default\", \"Default\", \"Default\", \"Default\", \"Default\", \"Default\", \"Default\", \"Default\", \"Default\", \"Default\", \"Default\", \"Default\", \"Default\", \"Default\", \"Default\", \"Default\", \"Default\", \"Default\", \"Default\", \"Default\", \"Default\", \"Default\", \"Topic1\", \"Topic1\", \"Topic1\", \"Topic1\", \"Topic1\", \"Topic1\", \"Topic1\", \"Topic1\", \"Topic1\", \"Topic1\", \"Topic1\", \"Topic1\", \"Topic1\", \"Topic1\", \"Topic1\", \"Topic1\", \"Topic1\", \"Topic1\", \"Topic1\", \"Topic1\", \"Topic1\", \"Topic1\", \"Topic1\", \"Topic1\", \"Topic1\", \"Topic1\", \"Topic1\", \"Topic1\", \"Topic1\", \"Topic1\", \"Topic1\", \"Topic1\", \"Topic1\", \"Topic1\", \"Topic1\", \"Topic1\", \"Topic1\", \"Topic1\", \"Topic1\", \"Topic1\", \"Topic1\", \"Topic1\", \"Topic1\", \"Topic1\", \"Topic1\", \"Topic1\", \"Topic1\", \"Topic1\", \"Topic1\", \"Topic1\", \"Topic1\", \"Topic1\", \"Topic1\", \"Topic1\", \"Topic1\", \"Topic1\", \"Topic1\", \"Topic1\", \"Topic1\", \"Topic1\", \"Topic1\", \"Topic1\", \"Topic1\", \"Topic1\", \"Topic1\", \"Topic1\", \"Topic1\", \"Topic1\", \"Topic1\", \"Topic1\", \"Topic1\", \"Topic1\", \"Topic1\", \"Topic1\", \"Topic1\", \"Topic1\", \"Topic1\", \"Topic1\", \"Topic2\", \"Topic2\", \"Topic2\", \"Topic2\", \"Topic2\", \"Topic2\", \"Topic2\", \"Topic2\", \"Topic2\", \"Topic2\", \"Topic2\", \"Topic2\", \"Topic2\", \"Topic2\", \"Topic2\", \"Topic2\", \"Topic2\", \"Topic2\", \"Topic2\", \"Topic2\", \"Topic2\", \"Topic2\", \"Topic2\", \"Topic2\", \"Topic2\", \"Topic2\", \"Topic2\", \"Topic2\", \"Topic2\", \"Topic2\", \"Topic2\", \"Topic2\", \"Topic2\", \"Topic2\", \"Topic2\", \"Topic2\", \"Topic2\", \"Topic2\", \"Topic2\", \"Topic2\", \"Topic2\", \"Topic2\", \"Topic2\", \"Topic2\", \"Topic2\", \"Topic2\", \"Topic2\", \"Topic2\", \"Topic2\", \"Topic2\", \"Topic2\", \"Topic2\", \"Topic2\", \"Topic2\", \"Topic2\", \"Topic2\", \"Topic2\", \"Topic2\", \"Topic2\", \"Topic2\", \"Topic2\", \"Topic2\", \"Topic2\", \"Topic2\", \"Topic2\", \"Topic2\", \"Topic2\", \"Topic2\", \"Topic2\", \"Topic2\", \"Topic2\", \"Topic2\", \"Topic2\", \"Topic2\", \"Topic2\", \"Topic2\", \"Topic2\", \"Topic2\", \"Topic2\", \"Topic2\", \"Topic2\", \"Topic2\", \"Topic2\", \"Topic2\", \"Topic2\", \"Topic2\", \"Topic2\", \"Topic2\", \"Topic2\", \"Topic3\", \"Topic3\", \"Topic3\", \"Topic3\", \"Topic3\", \"Topic3\", \"Topic3\", \"Topic3\", \"Topic3\", \"Topic3\", \"Topic3\", \"Topic3\", \"Topic3\", \"Topic3\", \"Topic3\", \"Topic3\", \"Topic3\", \"Topic3\", \"Topic3\", \"Topic3\", \"Topic3\", \"Topic3\", \"Topic3\", \"Topic3\", \"Topic3\", \"Topic3\", \"Topic3\", \"Topic3\", \"Topic3\", \"Topic3\", \"Topic3\", \"Topic3\", \"Topic3\", \"Topic3\", \"Topic3\", \"Topic3\", \"Topic3\", \"Topic3\", \"Topic3\", \"Topic3\", \"Topic3\", \"Topic3\", \"Topic3\", \"Topic3\", \"Topic3\", \"Topic3\", \"Topic3\", \"Topic3\", \"Topic3\", \"Topic3\", \"Topic3\", \"Topic3\", \"Topic3\", \"Topic3\", \"Topic3\", \"Topic3\", \"Topic3\", \"Topic3\", \"Topic3\", \"Topic3\", \"Topic3\", \"Topic3\", \"Topic3\", \"Topic3\", \"Topic3\", \"Topic3\", \"Topic3\", \"Topic3\", \"Topic3\", \"Topic3\", \"Topic3\", \"Topic3\", \"Topic3\", \"Topic3\", \"Topic3\", \"Topic3\", \"Topic3\", \"Topic3\", \"Topic3\", \"Topic3\", \"Topic3\", \"Topic3\", \"Topic4\", \"Topic4\", \"Topic4\", \"Topic4\", \"Topic4\", \"Topic4\", \"Topic4\", \"Topic4\", \"Topic4\", \"Topic4\", \"Topic4\", \"Topic4\", \"Topic4\", \"Topic4\", \"Topic4\", \"Topic4\", \"Topic4\", \"Topic4\", \"Topic4\", \"Topic4\", \"Topic4\", \"Topic4\", \"Topic4\", \"Topic4\", \"Topic4\", \"Topic4\", \"Topic4\", \"Topic4\", \"Topic4\", \"Topic4\", \"Topic4\", \"Topic4\", \"Topic4\", \"Topic4\", \"Topic4\", \"Topic4\", \"Topic4\", \"Topic4\", \"Topic4\", \"Topic4\", \"Topic4\", \"Topic4\", \"Topic4\", \"Topic4\", \"Topic4\", \"Topic4\", \"Topic4\", \"Topic4\", \"Topic4\", \"Topic4\", \"Topic4\", \"Topic4\", \"Topic4\", \"Topic4\", \"Topic4\", \"Topic4\", \"Topic4\", \"Topic4\", \"Topic4\", \"Topic4\", \"Topic4\", \"Topic4\", \"Topic4\", \"Topic4\", \"Topic4\", \"Topic4\", \"Topic4\", \"Topic4\", \"Topic4\", \"Topic4\", \"Topic4\", \"Topic4\", \"Topic4\", \"Topic4\", \"Topic4\", \"Topic4\", \"Topic4\", \"Topic4\", \"Topic4\", \"Topic4\", \"Topic4\", \"Topic4\", \"Topic4\", \"Topic4\", \"Topic5\", \"Topic5\", \"Topic5\", \"Topic5\", \"Topic5\", \"Topic5\", \"Topic5\", \"Topic5\", \"Topic5\", \"Topic5\", \"Topic5\", \"Topic5\", \"Topic5\", \"Topic5\", \"Topic5\", \"Topic5\", \"Topic5\", \"Topic5\", \"Topic5\", \"Topic5\", \"Topic5\", \"Topic5\", \"Topic5\", \"Topic5\", \"Topic5\", \"Topic5\", \"Topic5\", \"Topic5\", \"Topic5\", \"Topic5\", \"Topic5\", \"Topic5\", \"Topic5\", \"Topic5\", \"Topic5\", \"Topic5\", \"Topic5\", \"Topic5\", \"Topic5\", \"Topic5\", \"Topic5\", \"Topic5\", \"Topic5\", \"Topic5\", \"Topic5\", \"Topic5\", \"Topic5\", \"Topic5\", \"Topic5\", \"Topic5\", \"Topic5\", \"Topic5\", \"Topic5\", \"Topic5\", \"Topic5\", \"Topic5\", \"Topic5\", \"Topic5\", \"Topic5\", \"Topic5\", \"Topic5\", \"Topic5\", \"Topic5\", \"Topic5\", \"Topic5\", \"Topic5\", \"Topic5\", \"Topic5\", \"Topic5\", \"Topic5\", \"Topic5\", \"Topic5\", \"Topic5\", \"Topic5\", \"Topic5\", \"Topic5\", \"Topic5\", \"Topic5\", \"Topic5\", \"Topic5\", \"Topic5\", \"Topic5\", \"Topic5\", \"Topic5\", \"Topic5\", \"Topic5\"], \"logprob\": [30.0, 29.0, 28.0, 27.0, 26.0, 25.0, 24.0, 23.0, 22.0, 21.0, 20.0, 19.0, 18.0, 17.0, 16.0, 15.0, 14.0, 13.0, 12.0, 11.0, 10.0, 9.0, 8.0, 7.0, 6.0, 5.0, 4.0, 3.0, 2.0, 1.0, -8.1411, -8.7382, -8.953, -8.6213, -8.0137, -8.9822, -8.8061, -8.2827, -8.8164, -8.3043, -8.8276, -9.0048, -9.2241, -9.2243, -9.2247, -9.2249, -8.8282, -9.2445, -9.0251, -9.0187, -5.6207, -9.2609, -9.2653, -9.2708, -8.1322, -8.7427, -9.2992, -6.0858, -9.5981, -9.5984, -7.0141, -6.1467, -7.2603, -4.7619, -4.715, -4.6761, -3.793, -4.6493, -5.252, -5.0825, -6.8332, -5.8104, -2.6432, -5.1045, -4.612, -5.2711, -4.8469, -6.7282, -6.92, -7.2837, -7.0504, -5.6816, -5.0602, -5.4147, -6.2691, -6.178, -5.7144, -5.1126, -5.6645, -5.4036, -4.8392, -4.5193, -4.867, -5.4975, -5.658, -4.2401, -4.941, -4.2603, -5.1641, -4.2215, -5.0608, -4.9599, -4.7804, -5.2749, -5.0813, -5.2328, -5.0877, -5.26, -8.8768, -8.9412, -9.3501, -9.3504, -9.3506, -9.3509, -9.3516, -9.352, -9.3542, -9.3792, -7.7616, -9.1928, -8.7314, -9.4217, -9.4173, -8.8701, -9.7239, -9.724, -9.7241, -6.7506, -6.1296, -9.7245, -9.7245, -9.7246, -9.7247, -9.7247, -9.7248, -9.7249, -9.725, -9.725, -8.865, -8.4549, -4.1655, -4.8143, -8.5587, -8.3713, -8.6385, -8.6558, -8.446, -3.9848, -9.2342, -7.8597, -4.332, -6.6514, -3.4114, -6.7294, -3.3801, -4.066, -6.9636, -4.2564, -6.901, -7.1373, -5.5982, -5.7353, -6.5058, -3.3575, -4.6808, -5.5885, -5.5508, -7.5281, -5.8086, -7.3872, -5.9021, -5.8751, -5.5489, -6.0045, -4.2502, -4.7644, -3.1333, -4.7206, -4.9311, -5.5242, -4.1469, -5.5606, -5.7011, -5.453, -5.1382, -5.0507, -5.0406, -5.5392, -5.513, -5.058, -4.8136, -5.3161, -5.1578, -4.9608, -5.4035, -5.4166, -5.4993, -8.3971, -8.6047, -8.8734, -8.8744, -8.875, -8.8755, -8.8756, -6.736, -8.378, -9.2478, -9.2481, -9.2481, -9.2481, -9.2482, -9.2482, -9.2484, -9.2485, -9.2484, -9.2485, -9.2486, -9.2489, -9.2492, -9.2491, -9.2491, -9.2492, -9.2493, -9.2493, -9.2496, -9.25, -9.2504, -8.7317, -4.5094, -7.5721, -8.9654, -8.9679, -8.4467, -8.6406, -4.1152, -6.984, -3.1786, -8.7692, -5.9354, -6.4693, -6.978, -7.3254, -8.4992, -7.1389, -6.8906, -5.3153, -7.0778, -4.3299, -3.2724, -4.3274, -5.3977, -4.68, -5.4152, -4.4855, -6.0161, -4.2216, -5.0507, -5.4557, -5.6619, -4.8424, -3.0374, -5.2726, -5.5582, -4.0305, -4.6159, -5.9177, -6.0319, -5.1902, -4.315, -5.3974, -4.6679, -4.9372, -5.6577, -5.1508, -5.0198, -5.3229, -5.1802, -5.4398, -5.4361, -7.5108, -8.0003, -8.6635, -8.6639, -8.6655, -8.6679, -8.3361, -9.0362, -9.0362, -9.0363, -9.0363, -9.0364, -9.0364, -9.0369, -9.0369, -9.0371, -9.0373, -9.0374, -9.0376, -9.0378, -9.0388, -9.0391, -9.0395, -9.0395, -9.0406, -9.0505, -8.3705, -8.3927, -9.0681, -8.2368, -7.4237, -6.7196, -5.0203, -8.0462, -7.2614, -8.3903, -5.2893, -4.1854, -8.0643, -4.2994, -4.6448, -3.7387, -4.4704, -6.7156, -5.981, -5.4195, -4.9493, -6.8426, -3.5948, -7.9678, -6.3536, -5.2516, -5.5539, -5.8978, -5.0215, -6.7107, -6.866, -5.7355, -5.4439, -4.6762, -5.3685, -3.1209, -6.0416, -6.0311, -4.4577, -3.8187, -5.0481, -4.8983, -4.6364, -5.761, -5.7808, -5.1886, -5.5508, -5.3519, -5.1844, -5.0446, -5.4582, -4.6455, -5.2484, -5.1235, -5.2404, -5.2501, -5.3775, -5.3631, -7.6516, -8.0257, -8.0258, -8.0263, -8.0264, -8.0278, -8.0287, -8.0319, -8.1344, -8.1599, -7.5305, -8.1798, -8.1878, -8.2059, -7.6873, -8.2116, -7.9789, -8.6314, -8.6315, -8.6315, -8.6315, -8.6316, -8.6316, -8.6316, -8.6316, -8.6316, -8.6316, -8.6318, -8.6319, -8.6319, -8.227, -7.6562, -8.0277, -6.5025, -7.6799, -6.5018, -7.1352, -6.9303, -8.0253, -7.0304, -8.026, -8.0264, -6.0442, -3.946, -6.5092, -4.4149, -4.9063, -4.9873, -6.8143, -6.8759, -6.9597, -5.3396, -6.8078, -5.0225, -3.9399, -4.5407, -4.8039, -5.6749, -4.6057, -4.2988, -5.0521, -5.2351, -5.4219, -4.7737, -4.2678, -5.4757, -5.4903, -5.9797, -3.9821, -5.0803, -5.9535, -5.3005, -5.6333, -5.11, -5.5598, -5.018, -5.5037, -5.128, -5.4952, -4.8634, -5.2525, -5.3927, -5.4987, -5.4364, -5.4753, -5.4897], \"loglift\": [30.0, 29.0, 28.0, 27.0, 26.0, 25.0, 24.0, 23.0, 22.0, 21.0, 20.0, 19.0, 18.0, 17.0, 16.0, 15.0, 14.0, 13.0, 12.0, 11.0, 10.0, 9.0, 8.0, 7.0, 6.0, 5.0, 4.0, 3.0, 2.0, 1.0, 1.0427, 1.0413, 1.012, 1.0, 0.992, 0.987, 0.9821, 0.976, 0.9732, 0.9732, 0.9711, 0.9705, 0.9687, 0.9686, 0.9682, 0.968, 0.9628, 0.9509, 0.9491, 0.9442, 0.9439, 0.9365, 0.936, 0.9283, 0.9065, 0.9032, 0.9027, 0.891, 0.8904, 0.89, 0.8751, 0.8587, 0.8684, 0.7618, 0.7252, 0.6988, 0.6469, 0.6891, 0.6956, 0.6579, 0.771, 0.6667, 0.3212, 0.542, 0.4617, 0.4979, 0.4307, 0.6791, 0.7042, 0.7408, 0.7011, 0.4491, 0.3161, 0.3858, 0.5476, 0.5272, 0.4221, 0.2723, 0.3881, 0.3132, 0.1571, 0.0557, 0.1537, 0.3232, 0.3563, -0.1815, 0.0757, -0.2922, 0.1022, -0.5405, -0.0096, -0.1635, -0.4021, -0.0393, -0.4533, -0.32, -1.1585, -0.3637, 1.1435, 1.0729, 1.0605, 1.0602, 1.0598, 1.0595, 1.0586, 1.0582, 1.0553, 1.0239, 1.0228, 0.9922, 0.9907, 0.9768, 0.9765, 0.9727, 0.9575, 0.9574, 0.9573, 0.9572, 0.957, 0.9568, 0.9568, 0.9567, 0.9566, 0.9566, 0.9564, 0.9563, 0.9562, 0.9562, 0.9555, 0.9368, 0.8084, 0.8212, 0.9294, 0.923, 0.9295, 0.9294, 0.9208, 0.7356, 0.9409, 0.8718, 0.6631, 0.8019, 0.5567, 0.8034, 0.5491, 0.562, 0.792, 0.54, 0.783, 0.7914, 0.6132, 0.6211, 0.7135, 0.3235, 0.4348, 0.5179, 0.5057, 0.7958, 0.5165, 0.7663, 0.523, 0.5098, 0.4387, 0.5101, 0.1281, 0.2294, -0.1689, 0.1756, 0.1859, 0.3501, -0.0883, 0.353, 0.3976, 0.2638, 0.0974, 0.023, -0.0443, 0.2718, 0.2495, -0.1453, -0.3737, 0.0491, -0.1371, -0.3858, 0.0353, -0.3654, 0.0333, 1.5188, 1.4926, 1.4439, 1.4428, 1.4422, 1.4416, 1.4415, 1.3864, 1.3744, 1.3514, 1.3511, 1.3511, 1.3511, 1.351, 1.351, 1.3508, 1.3508, 1.3508, 1.3507, 1.3506, 1.3503, 1.3501, 1.3501, 1.3501, 1.35, 1.35, 1.3498, 1.3496, 1.3491, 1.3487, 1.3463, 1.2231, 1.2984, 1.3408, 1.3338, 1.2887, 1.3003, 0.8786, 1.1471, 0.7506, 1.3004, 0.9711, 1.0289, 1.0494, 1.0945, 1.25, 1.0623, 1.0235, 0.7833, 1.0334, 0.5829, 0.4086, 0.5689, 0.7339, 0.5556, 0.6923, 0.4884, 0.7568, 0.3534, 0.5186, 0.5969, 0.6397, 0.4239, -0.073, 0.4801, 0.4884, -0.0625, 0.1045, 0.5809, 0.6128, 0.175, -0.2564, 0.2381, -0.228, -0.1408, 0.3673, -0.1545, -0.3918, -0.2058, -0.8019, -0.244, -0.3624, 1.6246, 1.5914, 1.5018, 1.5015, 1.5001, 1.498, 1.4294, 1.4274, 1.4274, 1.4273, 1.4273, 1.4272, 1.4272, 1.4268, 1.4267, 1.4266, 1.4264, 1.4263, 1.4261, 1.4259, 1.4251, 1.4248, 1.4245, 1.4245, 1.4235, 1.4161, 1.4122, 1.4056, 1.4022, 1.3932, 1.3649, 1.2719, 1.1016, 1.3431, 1.2643, 1.3672, 0.9936, 0.8312, 1.2995, 0.7518, 0.794, 0.6397, 0.7254, 1.0593, 0.9339, 0.8342, 0.7129, 1.0403, 0.4638, 1.2253, 0.9029, 0.6447, 0.6994, 0.7652, 0.5111, 0.9686, 0.9998, 0.6754, 0.5837, 0.3444, 0.5439, -0.1565, 0.7422, 0.7206, 0.1173, -0.1377, 0.3282, 0.2187, -0.0084, 0.5603, 0.5677, 0.1962, 0.4256, 0.2657, 0.0819, -0.0483, 0.281, -0.6775, 0.0292, -0.2107, -0.2452, -0.4537, -0.0026, -1.4339, 2.6163, 2.5298, 2.5296, 2.5291, 2.529, 2.5276, 2.5267, 2.5237, 2.4132, 2.386, 2.365, 2.3648, 2.3563, 2.337, 2.3329, 2.331, 2.3294, 2.3293, 2.3292, 2.3292, 2.3292, 2.3291, 2.3291, 2.3291, 2.3291, 2.3291, 2.3291, 2.3289, 2.3288, 2.3288, 2.3146, 2.2668, 2.2855, 2.1163, 2.2053, 2.0278, 2.0845, 2.0473, 2.2272, 2.0471, 2.2163, 2.2131, 1.7986, 1.1695, 1.816, 0.9503, 1.07, 1.0756, 1.7852, 1.7967, 1.8107, 1.004, 1.7179, 0.7302, 0.1187, 0.4545, 0.5346, 0.9974, 0.2906, 0.0796, 0.5655, 0.6846, 0.6845, 0.1391, -0.2997, 0.5561, 0.5369, 0.936, -1.0177, 0.0367, 0.858, 0.1383, 0.5032, -0.1137, 0.3145, -0.5781, 0.1585, -0.5001, 0.1403, -1.1824, -0.5321, -0.1571, 0.0706, -0.4157, -0.2795, -0.4731]}, \"token.table\": {\"Topic\": [1, 2, 3, 4, 2, 1, 2, 3, 4, 5, 1, 2, 3, 4, 5, 2, 4, 1, 2, 2, 3, 2, 1, 2, 1, 2, 3, 4, 5, 3, 5, 2, 2, 2, 1, 2, 3, 4, 5, 5, 4, 5, 1, 2, 3, 4, 5, 1, 2, 3, 4, 5, 3, 1, 2, 3, 4, 3, 1, 2, 1, 2, 3, 4, 5, 2, 4, 1, 2, 3, 4, 5, 1, 2, 3, 4, 5, 5, 3, 1, 3, 3, 1, 2, 3, 4, 5, 1, 2, 3, 4, 5, 4, 1, 2, 3, 4, 5, 3, 1, 3, 4, 5, 1, 2, 3, 4, 5, 1, 2, 3, 4, 5, 1, 2, 3, 4, 1, 2, 3, 4, 5, 1, 2, 1, 2, 3, 4, 5, 4, 1, 2, 3, 4, 5, 2, 5, 2, 3, 2, 5, 4, 1, 2, 3, 4, 5, 1, 2, 3, 4, 5, 1, 2, 1, 2, 3, 4, 5, 1, 2, 4, 1, 2, 3, 4, 5, 3, 4, 1, 2, 3, 4, 5, 1, 2, 3, 4, 5, 1, 2, 3, 4, 5, 2, 4, 1, 2, 3, 4, 5, 3, 1, 2, 3, 4, 5, 5, 1, 2, 3, 4, 5, 3, 4, 4, 1, 2, 3, 4, 5, 1, 2, 3, 4, 5, 2, 1, 2, 3, 4, 5, 1, 2, 3, 4, 5, 5, 1, 4, 5, 1, 2, 3, 4, 5, 1, 2, 3, 4, 5, 1, 2, 3, 4, 5, 1, 5, 1, 2, 3, 4, 5, 5, 4, 2, 3, 4, 5, 1, 2, 3, 4, 5, 1, 2, 3, 1, 2, 3, 4, 5, 4, 3, 1, 2, 3, 4, 5, 2, 1, 2, 3, 4, 5, 1, 1, 2, 3, 4, 5, 1, 2, 3, 4, 5, 1, 2, 3, 4, 5, 1, 2, 3, 4, 5, 3, 5, 1, 2, 3, 4, 5, 1, 2, 3, 4, 5, 1, 2, 3, 4, 5, 1, 2, 3, 4, 5, 4, 1, 2, 3, 4, 5, 4, 1, 2, 3, 4, 5, 4, 1, 2, 3, 4, 5, 1, 2, 3, 4, 5, 1, 2, 3, 4, 5, 1, 2, 3, 4, 5, 1, 1, 3, 2, 3, 3, 1, 2, 3, 4, 5, 1, 2, 3, 4, 5, 5, 1, 2, 3, 4, 5, 5, 5, 2, 1, 3, 3, 1, 4, 1, 2, 3, 4, 1, 2, 3, 4, 5, 3, 1, 2, 3, 4, 5, 3, 5, 2, 1, 2, 3, 4, 5, 1, 2, 3, 4, 5, 1, 2, 4, 2, 1, 2, 3, 4, 5, 1, 1, 2, 3, 1, 2, 3, 4, 5, 1, 2, 3, 4, 5, 2, 3, 4, 1, 2, 3, 4, 5, 1, 2, 3, 4, 1, 3, 3, 1, 2, 3, 4, 5, 1, 2, 3, 4, 5, 1, 2, 3, 4, 5, 1, 2, 3, 4, 5, 1, 2, 3, 1, 5, 5, 1, 5, 5, 1, 2, 3, 4, 5, 5, 1, 2, 3, 4, 5, 1, 2, 3, 4, 5, 1, 2, 3, 4, 5, 1, 2, 3, 4, 5, 1, 2, 3, 4, 5, 1, 2, 3, 4, 5, 1, 2, 3, 4, 5, 4, 1, 1, 2, 4, 5, 1, 2, 3, 4, 5, 4, 3, 3, 4, 1, 2, 3, 4, 5, 3, 1, 2, 3, 4, 5, 1, 2, 3, 4, 5, 1, 2, 3, 4, 5, 4, 5, 1, 2, 3, 4, 5, 1, 3, 4, 1, 2, 3, 4, 5, 5, 2, 4, 1, 2, 4, 1, 2, 3, 4, 5, 1, 2, 3, 4, 5, 1, 2, 3, 5, 1, 2, 3, 4, 5, 2, 3, 1, 2, 1, 2, 3, 4, 5, 1, 2, 3, 4, 5, 1, 2, 3, 4, 5, 3, 1, 1, 2, 5, 1, 2, 3, 4, 2, 5, 1, 2, 5, 1, 2, 3, 4, 5, 1, 2, 3, 1, 2, 3, 4, 5, 1, 1, 2, 3, 4, 5, 1, 2, 3, 4, 5, 3, 5, 1, 2, 3, 4, 5, 1, 2, 3, 4, 5, 1, 2, 3, 4, 5, 1, 2, 3, 4, 5, 1, 1, 2, 3, 4, 5, 4, 1, 2, 3, 4, 5, 1, 2, 3, 4, 5, 1, 5, 3, 1, 3, 2, 3, 4, 1, 2, 3, 4, 1, 2, 3, 4, 5, 1, 2, 3, 4, 5, 1, 2, 3, 4, 5, 2, 1, 2, 3, 4, 5, 1, 2, 3, 4, 5, 1, 2, 3, 4, 5, 2, 3, 4, 1, 3, 2, 4, 1, 2, 3, 4, 5, 1, 5, 2, 1, 2, 3, 1, 2, 3, 4, 5, 4, 3, 1, 2, 3, 4, 5, 1, 2, 3, 4, 5, 2, 4, 1, 2, 3, 4, 5, 3, 1, 2, 1, 2, 3, 4, 5, 3, 1, 5, 1, 2, 3, 4, 5, 2, 5, 1, 2, 3, 4, 5, 1, 2, 3, 4, 5, 1, 2, 3, 4, 5, 1, 2, 3, 4, 5, 1, 4, 1, 2, 3, 4, 5, 1, 4, 1, 2, 3, 4, 5, 4, 1, 4, 1, 2, 3, 4, 5, 1, 2, 3, 4, 1, 2, 3, 4, 5, 1, 2, 3, 4, 5, 1, 2, 3, 4, 5, 4, 3, 1, 2, 3, 4, 5, 1, 2, 3, 4, 5, 1, 1, 2, 3, 4, 5, 1, 2, 3, 4, 5, 1, 2, 3, 4, 5, 5, 1, 2, 3, 4, 5, 4, 4, 1, 2, 3, 4, 5, 1, 2, 3, 4, 5, 1, 2, 3, 4, 5, 1, 2, 3, 4, 1, 2, 3, 4, 5, 5, 1, 3, 5, 1, 2, 3, 4, 5, 1, 5, 1, 2, 4, 5, 5, 1, 2, 3, 4, 5, 1, 4, 5, 3, 1, 2, 3, 4, 5, 3, 1, 5, 3, 4, 5, 4, 2, 3, 5, 4, 4, 2, 1, 2, 3, 4, 2, 2, 5, 4], \"Freq\": [0.09789746156461772, 0.29369238469385317, 0.5221197950112945, 0.08158121797051476, 0.9005793749294149, 0.4261343411616647, 0.21893140463351582, 0.09187300015870753, 0.2541168089496166, 0.00781897873691128, 0.16479573436909475, 0.16479573436909475, 0.5273463499811032, 0.09887744062145686, 0.03295914687381895, 0.5905042437160808, 0.6331721239363808, 0.7263179772897147, 0.5960275367285567, 0.8078015080586326, 0.20195037701465815, 0.593266758306729, 0.7245179963027066, 0.7871383072560848, 0.07144524185126847, 0.35008168507121545, 0.17861310462817115, 0.24291382229431277, 0.15717953207279062, 0.7250644678735062, 0.6940683721625479, 0.7871660939150329, 0.7871435907938531, 0.7870954323702737, 0.3255997478971451, 0.14987924903201916, 0.17055224889850454, 0.3255997478971451, 0.0310094997997281, 0.520450699747243, 0.7876201568522683, 0.15752403137045365, 0.11444144442334023, 0.22888288884668045, 0.6308235716993875, 0.01674752845219613, 0.008373764226098064, 0.23389279304499302, 0.3575218407973465, 0.07350916352842637, 0.3174259334182048, 0.01670662807464236, 0.8114979351747371, 0.1081266657275825, 0.1081266657275825, 0.1081266657275825, 0.7568866600930776, 0.7251054484454741, 0.8804373268593703, 0.08804373268593703, 0.5242152340924066, 0.16981620259331479, 0.07383313156231078, 0.22149939468693233, 0.007383313156231078, 0.16024698180050032, 0.8012349090025016, 0.15284989927747653, 0.30952104603688996, 0.30187855107301614, 0.18724112661490874, 0.04967621726517987, 0.4281151386242104, 0.22150533574334916, 0.1722624565155951, 0.15684119896384296, 0.021028987570571124, 0.520448092463413, 0.7251520799603629, 0.6490832792275482, 0.7250978603006021, 0.8203774004641401, 0.33840312577592574, 0.11755055948005842, 0.09261559231762179, 0.28140891511892774, 0.17098263197099406, 0.4574701374544911, 0.1076400323422332, 0.3382972445041615, 0.0538200161711166, 0.042287155563020186, 0.6350620313841692, 0.4298682617656579, 0.23475075287911812, 0.19206879781018757, 0.13414328735949607, 0.012194844305408735, 0.7251594973479315, 0.1825081017204293, 0.09125405086021465, 0.1825081017204293, 0.4562702543010733, 0.2075380461787519, 0.29833594138195585, 0.08287109482832107, 0.3480585982789485, 0.06341440299906308, 0.3428236151731918, 0.25290266693104313, 0.134881422363223, 0.24166254840077456, 0.025290266693104312, 0.2151287529073136, 0.11734295613126196, 0.17601443419689294, 0.48892898388025813, 0.22003117120709345, 0.2585366261683348, 0.12651792344407872, 0.3630514324917042, 0.033004675681064015, 0.21144036480205086, 0.6343210944061526, 0.2779739235708814, 0.20153109458888901, 0.34051805637432975, 0.15983500605325682, 0.020848044267816106, 0.633215535126001, 0.5931755098788114, 0.18009850752134454, 0.14791068915582764, 0.04598259766502414, 0.0329541949932673, 0.787253074189688, 0.6886309342299434, 0.7117545586107674, 0.23725151953692247, 0.9004527960795076, 0.5204412151517325, 0.63346075665652, 0.7953945268664961, 0.13470391180803562, 0.03848683194515304, 0.01282894398171768, 0.01282894398171768, 0.4863059781367189, 0.20366660622819852, 0.15378907000904785, 0.12053737919628076, 0.03740815216436299, 0.8141643097642565, 0.1628328619528513, 0.2461888132998846, 0.27621183931206567, 0.3302532861339915, 0.1260967092511604, 0.01801381560730863, 0.8104491004892348, 0.0736771909535668, 0.0736771909535668, 0.12073719472233309, 0.6841774367598875, 0.04024573157411103, 0.1408600605093886, 0.020122865787055515, 0.7250490903554764, 0.633219821211973, 0.20307297385865777, 0.28836362287929407, 0.36959281242275716, 0.09341356797498258, 0.04467605424890471, 0.24732014964329416, 0.1731241047503059, 0.5193723142509177, 0.04946402992865883, 0.024732014964329415, 0.21331396869342295, 0.16591086453932896, 0.3950258679507832, 0.20541345133440728, 0.023701552077046995, 0.6656551070898178, 0.16641377677245445, 0.666004153906977, 0.1291232543289037, 0.07928620879844965, 0.0747555682956811, 0.052102365781838335, 0.7251515782041901, 0.3122124845048972, 0.17952217859031588, 0.06504426760518692, 0.37465498140587666, 0.06764603830939439, 0.5204450858098263, 0.6230042081311339, 0.20074580039780981, 0.024227941427321875, 0.10383403468852233, 0.04845588285464375, 0.8078286066337292, 0.26927620221124304, 0.705198970844541, 0.6418101698203568, 0.14378214843378123, 0.08543576935920334, 0.07918437160121286, 0.0520949813165874, 0.624655132789422, 0.1249310265578844, 0.04684913495920665, 0.1834924452568927, 0.019520472899669437, 0.9006120744436173, 0.45712572823961384, 0.25395873791089657, 0.10457124502213389, 0.14341199317321218, 0.041828498008853555, 0.5095027976301948, 0.17369413555574825, 0.12448079714828623, 0.13606040618533613, 0.055003142925986945, 0.5204464842425248, 0.25301517522808026, 0.25301517522808026, 0.5060303504561605, 0.21530276134691062, 0.3120680473455221, 0.3277924063202965, 0.06652613412404541, 0.0774122287988892, 0.10553241761672102, 0.5698750551302936, 0.18995835171009784, 0.10553241761672102, 0.021106483523344204, 0.2635604078265943, 0.17570693855106284, 0.12778686440077297, 0.3833605932023189, 0.047920074150289864, 0.2537258463463521, 0.5074516926927042, 0.4176208238300417, 0.06370487143170127, 0.0920181476235685, 0.39638586668614123, 0.028313276191867232, 0.6942116989878488, 0.633255753747465, 0.6161021605079985, 0.05600928731890896, 0.05600928731890896, 0.22403714927563584, 0.3280798263449994, 0.17807541376479913, 0.2640428548926332, 0.206146414949398, 0.02280768846248659, 0.11936217983584575, 0.7161730790150745, 0.2387243596716915, 0.1727145170161106, 0.27259761119410225, 0.08323591181499307, 0.40577507009809116, 0.06658872945199446, 0.6331582776159821, 0.8203893624386867, 0.6053497894012186, 0.18806983748387374, 0.14692956053427636, 0.047017459370968434, 0.017631547264113163, 0.7872338421061658, 0.7615534504837937, 0.07615534504837938, 0.07615534504837938, 0.6382616007463272, 0.3191308003731636, 0.7691607475355515, 0.630632989418608, 0.14714769753100854, 0.10510549823643467, 0.08408439858914774, 0.04204219929457387, 0.14554679528672218, 0.5087461376535886, 0.11082921108988937, 0.144211503586844, 0.09213512729159477, 0.776245490833706, 0.14724661356137775, 0.2944932271227555, 0.14724661356137775, 0.34357543164321475, 0.10868704324256459, 0.3904682664640284, 0.406570050648112, 0.06440713673633458, 0.028178122322146375, 0.355079606418386, 0.532619409627579, 0.18230813931942025, 0.48962757417215724, 0.2604401990277432, 0.05208803980554864, 0.020835215922219458, 0.35025094256131933, 0.3442121332068138, 0.1721060666034069, 0.12379559176736286, 0.012077618709011011, 0.37805780610641637, 0.3747121618045897, 0.08364110754566735, 0.1572452821858546, 0.006691288603653388, 0.22585337194273852, 0.5771808394092207, 0.12547409552374364, 0.025094819104748724, 0.05018963820949745, 0.7050398089889827, 0.536525501581171, 0.13206781577382667, 0.17333900820314752, 0.12381357728796252, 0.03301695394345667, 0.6332744496631958, 0.3063715694966384, 0.07070113142230118, 0.07070113142230118, 0.4949079199561082, 0.04713408761486745, 0.6332512847825692, 0.40056519048524236, 0.12454547939457114, 0.22889439456299562, 0.12791157343226225, 0.11444719728149781, 0.15011660731154708, 0.10007773820769804, 0.15011660731154708, 0.10007773820769804, 0.5003886910384903, 0.052807672922436356, 0.2640383646121818, 0.052807672922436356, 0.31684603753461815, 0.3696537104570545, 0.060919191985569936, 0.0913787879783549, 0.7310303038268392, 0.0913787879783549, 0.5204491701597106, 0.7245321256697109, 0.8078677418165324, 0.1615735483633065, 0.7188328944632372, 0.23961096482107905, 0.8204252104773612, 0.20783755349156283, 0.40513262238572756, 0.11747339979957899, 0.08132773832278546, 0.18825865352496635, 0.40813142257654755, 0.15773195075422128, 0.15970360013864904, 0.22279638044033756, 0.04929123461069415, 0.5204495264497877, 0.3356185484792451, 0.12824448600426439, 0.07912957647071633, 0.42156964016295423, 0.03683618215016105, 0.694074313772192, 0.6940740080472643, 0.9006836607733743, 0.30571037503677156, 0.6114207500735431, 0.7251391202941817, 0.818147552895653, 0.13635792548260883, 0.6628244663992069, 0.16570611659980172, 0.16570611659980172, 0.027617686099966954, 0.15833252229905997, 0.15833252229905997, 0.07916626114952999, 0.23749878344859, 0.47499756689718, 0.7251361841245088, 0.2348129977958288, 0.3731275033467964, 0.22194653216318064, 0.09006525942853706, 0.08041541020405095, 0.7251562287807234, 0.6940839601845189, 0.9007248522602341, 0.42589089446109163, 0.3407127155688733, 0.0741874461319321, 0.14287952588372108, 0.019233782330500913, 0.12303946517266, 0.04101315505755333, 0.5741841708057467, 0.12303946517266, 0.12303946517266, 0.7735414392141261, 0.09669267990176576, 0.09669267990176576, 0.7870821199772781, 0.2371251471183412, 0.15808343141222747, 0.38688839792992513, 0.1539233411119057, 0.06240135450482663, 0.7277645039374285, 0.15496796116024222, 0.15496796116024222, 0.6198718446409689, 0.1318513650005335, 0.11949029953173347, 0.1442124304693335, 0.552127590939734, 0.05356461703146673, 0.19700787902281533, 0.45968505105323576, 0.12486414867643224, 0.18220916510560853, 0.035146945553366116, 0.3227759302396863, 0.12911037209587453, 0.5379598837328105, 0.7555583375471473, 0.09686645353168555, 0.048433226765842774, 0.038746581412674216, 0.05811987211901133, 0.3313344516821879, 0.060242627578579615, 0.5120623344179267, 0.060242627578579615, 0.8067871214644585, 0.1613574242928917, 0.8779879457746219, 0.0627463804404843, 0.5882473166295404, 0.30196695586983074, 0.040523704034479455, 0.006536081295883783, 0.26628107459135647, 0.2268320265037481, 0.3501103017775242, 0.13314053729567824, 0.024655655054755227, 0.4925436600112514, 0.2686601781879553, 0.12855245085337647, 0.09677544053006992, 0.012999686041352675, 0.4439867470254989, 0.28489149600802843, 0.09619712852219142, 0.14429569278328713, 0.029599116468366594, 0.649104465152522, 0.18769796829822946, 0.7507918731929178, 0.34271510903793956, 0.6854302180758791, 0.6940719002892186, 0.34328380024638194, 0.6865676004927639, 0.7809024128273138, 0.35203501584564023, 0.17601750792282012, 0.09555236144381662, 0.3218605859160139, 0.06034885985925261, 0.5204436819256295, 0.3079511970222952, 0.43920908427769967, 0.08582246474391832, 0.1615481689297286, 0.0050483802790540185, 0.21575520347549393, 0.09589120154466398, 0.14383680231699594, 0.5274016084956519, 0.023972800386165994, 0.32162903784391, 0.3365885279761849, 0.2692708223809479, 0.06731770559523698, 0.007479745066137442, 0.6712401547234199, 0.16327463223002106, 0.0725665032133427, 0.018141625803335674, 0.05442487741000702, 0.20997651488462263, 0.2924672885892958, 0.1424840636717082, 0.3299630948186927, 0.02624706436057783, 0.24968936689201732, 0.18114718774518904, 0.14524414152542184, 0.37861394195390863, 0.04406282945153247, 0.21784187088189763, 0.2050276431829625, 0.10251382159148124, 0.44849796946273046, 0.02562845539787031, 0.9397462422217324, 0.8056468038809321, 0.2911699854640627, 0.058233997092812545, 0.23293598837125018, 0.34940398255687527, 0.3494469980245416, 0.40708773996673403, 0.09366620565606269, 0.13329421574132, 0.014410185485548108, 0.633385773373891, 0.7251832991981921, 0.640433830912586, 0.21347794363752867, 0.20988034258979263, 0.5308738077271226, 0.11111312254753727, 0.11111312254753727, 0.03703770751584576, 0.8204806040271615, 0.16614498342565107, 0.43412076314444314, 0.18758304580315444, 0.16614498342565107, 0.04287612475500673, 0.14668353753642244, 0.3293712161045122, 0.4467180461336501, 0.06000690171944554, 0.01600184045851881, 0.2340168742749889, 0.5772416232116393, 0.10920787466166149, 0.015601124951665926, 0.04680337485499778, 0.20319412736618594, 0.6095823820985579, 0.7376202404815424, 0.15948545740141457, 0.06977488761311887, 0.01993568217517682, 0.01993568217517682, 0.6987262190629656, 0.13974524381259312, 0.6331781564190312, 0.11078912902099602, 0.13848641127624503, 0.5262483628497311, 0.16618369353149404, 0.027697282255249006, 0.6940766587617004, 0.899771866054286, 0.633359506493977, 0.13755143481241267, 0.13755143481241267, 0.6877571740620634, 0.30787903209680334, 0.1821852988095763, 0.1002725288021699, 0.3897918021042098, 0.021184337070880965, 0.2318713055338133, 0.45752750390898833, 0.17402300044187224, 0.09322660737957442, 0.04302766494441896, 0.18308344034589724, 0.32039602060532013, 0.09154172017294862, 0.4577086008647431, 0.09749971748017, 0.45392557147607454, 0.39275829588709993, 0.043690911134981844, 0.011957512521152925, 0.8128626267244129, 0.7252242124961714, 0.2585689373858897, 0.6464223434647242, 0.3432437292569365, 0.14710445539582995, 0.2837014496919577, 0.19964176089434063, 0.026268652749255345, 0.3707548866409834, 0.23389905600169422, 0.05474233225571567, 0.23887563166130474, 0.10201980102201556, 0.3171130053553239, 0.20883051572179864, 0.06187570836201441, 0.3789887137173383, 0.03867231772625901, 0.725123012320488, 0.95830282742537, 0.7289761296824447, 0.27105985483230743, 0.5421197096646149, 0.05904952956744438, 0.7085943548093326, 0.05904952956744438, 0.11809905913488876, 0.6806542791228691, 0.17016356978071728, 0.17937517178129994, 0.17937517178129994, 0.5381255153438997, 0.36162404080574334, 0.22875460157029975, 0.11232261873511724, 0.25888993830411167, 0.03835406493394247, 0.1315304146740863, 0.6576520733704315, 0.1315304146740863, 0.18083391301823168, 0.36238542092939285, 0.2787856159031072, 0.16002366112327646, 0.01793987232323727, 0.7771200320662485, 0.03546579207426162, 0.5953186526751058, 0.23559419020759503, 0.06586504242362871, 0.06586504242362871, 0.2879825491422241, 0.27198351863432274, 0.11199321355530936, 0.3062671554369685, 0.02285575786843048, 0.7773429652900111, 0.15546859305800223, 0.14904150854878914, 0.5961660341951566, 0.07452075427439457, 0.07452075427439457, 0.14904150854878914, 0.5992839819771058, 0.12942283178848293, 0.09284681410912907, 0.16881238928932557, 0.00844061946446628, 0.735654160453793, 0.030652256685574707, 0.12260902674229883, 0.061304513371149415, 0.030652256685574707, 0.2038930600648656, 0.23234325449252127, 0.31058128916857436, 0.18966796285103776, 0.06164208792658728, 0.772403953094751, 0.14327425805369243, 0.21491138708053864, 0.07163712902684621, 0.14327425805369243, 0.4298227741610773, 0.6374565294415613, 0.19524959238441475, 0.4393115828649332, 0.1403356445262981, 0.20135114214642771, 0.024406199048051844, 0.29887965558881247, 0.28869057642101204, 0.3226541736470135, 0.03905813680990163, 0.049247215977702055, 0.34374485662711884, 0.6874897132542377, 0.7251343385142989, 0.7306494683828304, 0.7251480824326691, 0.565563929935425, 0.40846283828669583, 0.031420218329745835, 0.021623868261514384, 0.6811518502377031, 0.22705061674590102, 0.06487160478454315, 0.22503281313111945, 0.22626250063456818, 0.33201562593115985, 0.14879218791729756, 0.0676328126896807, 0.17943780959416464, 0.3076076735899965, 0.2990630159902744, 0.09114301439703601, 0.12247342559601714, 0.7478681794367386, 0.09649911992732112, 0.04824955996366056, 0.02412477998183028, 0.07237433994549083, 0.7871347223304334, 0.12289502918705833, 0.1843425437805875, 0.583751388638527, 0.061447514593529165, 0.030723757296764583, 0.6108267567871178, 0.08938928148104164, 0.07449106790086804, 0.17877856296208328, 0.04469464074052082, 0.15436774366487588, 0.4360888758532744, 0.1273533885235226, 0.2547067770470452, 0.02701435514135328, 0.6882682543967606, 0.19664807268478876, 0.09832403634239438, 0.7310880285662993, 0.7251417542716174, 0.7871740996001511, 0.6331605694723148, 0.6192544356199888, 0.15434305082321909, 0.048938040504923126, 0.07905375773872197, 0.09975831333695868, 0.3425942354105619, 0.6851884708211238, 0.7871736460527929, 0.10838292407778234, 0.6502975444666941, 0.21676584815556468, 0.33887657518806613, 0.23721360263164631, 0.12048944895575686, 0.2070912403927071, 0.10166297255641984, 0.6331762199115044, 0.7251398615193068, 0.38543401374177444, 0.3365356687148329, 0.1035494365276409, 0.12943679565955113, 0.04602197179006262, 0.16220999764452318, 0.48212415966566613, 0.11715166496548897, 0.19375083051984715, 0.03604666614322737, 0.1627654021222036, 0.8138270106110181, 0.3570934724984355, 0.19734112953860908, 0.042287384901130515, 0.371189267465479, 0.03758878657878268, 0.7251303471408934, 0.7244741574253347, 0.7872287018234638, 0.3918556988128945, 0.21871015747696437, 0.13669384842310273, 0.10024215551027534, 0.14580677165130956, 0.7250796691327845, 0.34227002168572696, 0.6845400433714539, 0.6292716996628278, 0.25911187633175264, 0.05552397349966128, 0.037015982333107524, 0.037015982333107524, 0.2723921073822826, 0.5447842147645652, 0.3202272627976324, 0.29559439642858376, 0.07389859910714594, 0.1806410200396901, 0.13958624275794235, 0.08711166883174667, 0.2564954693379208, 0.14034657756225852, 0.49363279004656446, 0.0241976857865963, 0.2874126230996181, 0.26799285126856287, 0.12817049408496484, 0.14370631154980906, 0.17089399211328646, 0.3548615693568214, 0.18000224532592388, 0.18000224532592388, 0.12343011108063352, 0.1594305601458183, 0.8539766667851246, 0.09488629630945829, 0.15718485067710675, 0.569795083704512, 0.05894431900391504, 0.1375367443424684, 0.07859242533855337, 0.7675442668945057, 0.19188606672362643, 0.18423499148288716, 0.20726436541824805, 0.11514686967680449, 0.13817624361216538, 0.34544060903041346, 0.6332195255997881, 0.15625227235271713, 0.7812613617635856, 0.2515244483529385, 0.43813936164705414, 0.14198960794117496, 0.048682151294117126, 0.1176485322941164, 0.08016511033053997, 0.16033022066107994, 0.08016511033053997, 0.6413208826443197, 0.26380085559336763, 0.44988444667582617, 0.16090757581836118, 0.11602859208670942, 0.008756874874468636, 0.18653015024328765, 0.22383618029194519, 0.03730603004865753, 0.22383618029194519, 0.3730603004865753, 0.13511975570172602, 0.5911489311950513, 0.18578966408987327, 0.06755987785086301, 0.033779938925431505, 0.9397880192670259, 0.7251310936635518, 0.3055419214758369, 0.11751612364455265, 0.12691741353611685, 0.4230580451203895, 0.028203869674692638, 0.21701999723594317, 0.2038672701307345, 0.17427363414401498, 0.34854726828802995, 0.052610908420834705, 0.7244959103130401, 0.11869586914014145, 0.546812593731079, 0.2059424054311856, 0.09434799854729192, 0.0344928166732035, 0.36362456005871946, 0.2513287400405855, 0.15908574502568976, 0.17512800502828033, 0.05213734500841933, 0.20644349397080766, 0.44078475739712986, 0.28455724844624836, 0.061375092802132006, 0.0055795538911029095, 0.520441150271781, 0.478227954782007, 0.16295174755535055, 0.1434683864346021, 0.18951996726546205, 0.02833943435745227, 0.6334040140502676, 0.6332705814082787, 0.24436468043738163, 0.31526060624328867, 0.15084239533171706, 0.22777201695089278, 0.06033695813268682, 0.23675163133356947, 0.13658747961552084, 0.07284665579494445, 0.4643974306927709, 0.09105831974368056, 0.30357320602658056, 0.20612995470940654, 0.1873908679176423, 0.19863431999270084, 0.10119106867552684, 0.04514551632945272, 0.4333969567627461, 0.48757157635808934, 0.036116413063562176, 0.23005696918373636, 0.2745217615469795, 0.22039070997433566, 0.12179486603844865, 0.1507936436666507, 0.5204456975289327, 0.21530118813351995, 0.6459035644005598, 0.5204456653029079, 0.4724392770988605, 0.12960723531030688, 0.11288372107671889, 0.1881395351278648, 0.09616020684313091, 0.3431087204239878, 0.6862174408479756, 0.1777274112025291, 0.1777274112025291, 0.6220459392088519, 0.08886370560126455, 0.5204438257234303, 0.5327315788657165, 0.1357441042302066, 0.1664786183955364, 0.11013200909243177, 0.05378539978932715, 0.10541232909827158, 0.6324739745896295, 0.10541232909827158, 0.7251714129543401, 0.2590859368746701, 0.24024332328378495, 0.14341322566395878, 0.2915371047256388, 0.06594914756809783, 0.8203214807378191, 0.25632326187362686, 0.5126465237472537, 0.915410915231817, 0.7115443817257388, 0.23718146057524625, 0.9267386623593763, 0.7540730873172768, 0.15081461746345537, 0.5204395097954261, 0.6331559104932816, 0.6335014845182556, 0.7871140722250578, 0.1287140645337203, 0.1287140645337203, 0.7079273549354617, 0.06435703226686015, 0.9003973211626008, 0.3687541620704247, 0.5531312431056371, 0.9226568777259183], \"Term\": [\"+61\", \"+61\", \"+61\", \"+61\", \"+61408\", \"...\", \"...\", \"...\", \"...\", \"...\", \".....\", \".....\", \".....\", \".....\", \".....\", \"10min\", \"18:03\", \"2018\", \"24-7\", \"27th\", \"27th\", \"2pm\", \"4.0+\", \"61+\", \"6pm\", \"6pm\", \"6pm\", \"6pm\", \"6pm\", \"7.1.1\", \"7mu\", \"8.0\", \"8.15pm\", \"9:55pm\", \"abl\", \"abl\", \"abl\", \"abl\", \"abl\", \"abuser.wel\", \"acc\", \"acc\", \"accept\", \"accept\", \"accept\", \"accept\", \"accept\", \"activ\", \"activ\", \"activ\", \"activ\", \"activ\", \"admit\", \"agent\", \"agent\", \"agent\", \"agent\", \"ahuh\", \"alot\", \"alot\", \"alway\", \"alway\", \"alway\", \"alway\", \"alway\", \"always-on\", \"always-on\", \"android\", \"android\", \"android\", \"android\", \"android\", \"app\", \"app\", \"app\", \"app\", \"app\", \"app.i\", \"app\\u00e2\\u20ac\\u2122\", \"asian\", \"attemp\", \"auburn\", \"australia\", \"australia\", \"australia\", \"australia\", \"australia\", \"australian\", \"australian\", \"australian\", \"australian\", \"australian\", \"autoic\", \"background\", \"background\", \"background\", \"background\", \"background\", \"bandaid\", \"bat\", \"bat\", \"bat\", \"bat\", \"batteri\", \"batteri\", \"batteri\", \"batteri\", \"batteri\", \"becaus\", \"becaus\", \"becaus\", \"becaus\", \"becaus\", \"becom\", \"becom\", \"becom\", \"becom\", \"befor\", \"befor\", \"befor\", \"befor\", \"befor\", \"bewar\", \"bewar\", \"bit\", \"bit\", \"bit\", \"bit\", \"bit\", \"bland\", \"bluetooth\", \"bluetooth\", \"bluetooth\", \"bluetooth\", \"bluetooth\", \"bombard\", \"brevill\", \"bright\", \"bright\", \"buffer\", \"bunker\", \"cam\", \"car\", \"car\", \"car\", \"car\", \"car\", \"caus\", \"caus\", \"caus\", \"caus\", \"caus\", \"cgm\", \"cgm\", \"check\", \"check\", \"check\", \"check\", \"check\", \"check-in\", \"check-in\", \"check-in\", \"chew\", \"chew\", \"chew\", \"chew\", \"chew\", \"chook\", \"clap\", \"code\", \"code\", \"code\", \"code\", \"code\", \"complain\", \"complain\", \"complain\", \"complain\", \"complain\", \"complet\", \"complet\", \"complet\", \"complet\", \"complet\", \"confer\", \"confer\", \"connect\", \"connect\", \"connect\", \"connect\", \"connect\", \"consult\", \"contact\", \"contact\", \"contact\", \"contact\", \"contact\", \"corvid19\", \"covid\", \"covid\", \"covid\", \"covid\", \"covid\", \"cv-19\", \"cv-19\", \"dark\", \"data\", \"data\", \"data\", \"data\", \"data\", \"day\", \"day\", \"day\", \"day\", \"day\", \"deem\", \"delet\", \"delet\", \"delet\", \"delet\", \"delet\", \"devic\", \"devic\", \"devic\", \"devic\", \"devic\", \"diff\", \"disclos\", \"disclos\", \"disclos\", \"doe\", \"doe\", \"doe\", \"doe\", \"doe\", \"doesnt\", \"doesnt\", \"doesnt\", \"doesnt\", \"doesnt\", \"doesn\\u00e2\\u20ac\\u2122t\", \"doesn\\u00e2\\u20ac\\u2122t\", \"doesn\\u00e2\\u20ac\\u2122t\", \"doesn\\u00e2\\u20ac\\u2122t\", \"doesn\\u00e2\\u20ac\\u2122t\", \"domest\", \"domest\", \"don\\u00e2\\u20ac\\u2122t\", \"don\\u00e2\\u20ac\\u2122t\", \"don\\u00e2\\u20ac\\u2122t\", \"don\\u00e2\\u20ac\\u2122t\", \"don\\u00e2\\u20ac\\u2122t\", \"dosent\", \"dosnt\", \"dot\", \"dot\", \"dot\", \"dot\", \"download\", \"download\", \"download\", \"download\", \"download\", \"dozen\", \"dozen\", \"dozen\", \"drain\", \"drain\", \"drain\", \"drain\", \"drain\", \"drawback\", \"drink\", \"drop\", \"drop\", \"drop\", \"drop\", \"drop\", \"dropdown\", \"dropout\", \"dropout\", \"dropout\", \"dvd\", \"dvd\", \"earpiec\", \"eas\", \"eas\", \"eas\", \"eas\", \"eas\", \"easi\", \"easi\", \"easi\", \"easi\", \"easi\", \"echo\", \"economi\", \"economi\", \"economi\", \"economi\", \"enter\", \"enter\", \"enter\", \"enter\", \"enter\", \"err\", \"err\", \"error\", \"error\", \"error\", \"error\", \"error\", \"everi\", \"everi\", \"everi\", \"everi\", \"everi\", \"everyon\", \"everyon\", \"everyon\", \"everyon\", \"everyon\", \"experi\", \"experi\", \"experi\", \"experi\", \"experi\", \"expiri\", \"famili\", \"famili\", \"famili\", \"famili\", \"famili\", \"family\\u00e2\\u20ac\\u2122\", \"fantast\", \"fantast\", \"fantast\", \"fantast\", \"fantast\", \"fear-mong\", \"fine\", \"fine\", \"fine\", \"fine\", \"fine\", \"flash\", \"flash\", \"flash\", \"flash\", \"flash\", \"foil\", \"foil\", \"foil\", \"foil\", \"foil\", \"format\", \"format\", \"format\", \"format\", \"fritz\", \"froze\", \"garmin\", \"garmin\", \"gay\", \"gay\", \"geez\", \"good\", \"good\", \"good\", \"good\", \"good\", \"govern\", \"govern\", \"govern\", \"govern\", \"govern\", \"government.tk\", \"great\", \"great\", \"great\", \"great\", \"great\", \"greg\", \"gun\", \"guyana\", \"hacker\", \"hacker\", \"hahaha\", \"handsfre\", \"handsfre\", \"headset\", \"headset\", \"headset\", \"headset\", \"herald\", \"herald\", \"herald\", \"herald\", \"herald\", \"here\\u00e2\\u20ac\\u2122\", \"hope\", \"hope\", \"hope\", \"hope\", \"hope\", \"hotspot/transmiss\", \"hound\", \"husband\\u00e2\\u20ac\\u2122\", \"idea\", \"idea\", \"idea\", \"idea\", \"idea\", \"identifi\", \"identifi\", \"identifi\", \"identifi\", \"identifi\", \"impract\", \"impract\", \"impract\", \"inadvert\", \"inform\", \"inform\", \"inform\", \"inform\", \"inform\", \"infring\", \"inhibit\", \"inhibit\", \"inhibit\", \"initi\", \"initi\", \"initi\", \"initi\", \"initi\", \"instal\", \"instal\", \"instal\", \"instal\", \"instal\", \"instruct\", \"instruct\", \"instruct\", \"interfer\", \"interfer\", \"interfer\", \"interfer\", \"interfer\", \"intern\", \"intern\", \"intern\", \"intern\", \"interupt\", \"interupt\", \"invaild\", \"invalid\", \"invalid\", \"invalid\", \"invalid\", \"invalid\", \"iphon\", \"iphon\", \"iphon\", \"iphon\", \"iphon\", \"issu\", \"issu\", \"issu\", \"issu\", \"issu\", \"it\\u00e2\\u20ac\\u2122\", \"it\\u00e2\\u20ac\\u2122\", \"it\\u00e2\\u20ac\\u2122\", \"it\\u00e2\\u20ac\\u2122\", \"it\\u00e2\\u20ac\\u2122\", \"jon\", \"joy\", \"joy\", \"karma\", \"karma\", \"kasperski\", \"kimjog\", \"kimjog\", \"kristin\", \"latest\", \"latest\", \"latest\", \"latest\", \"latest\", \"lauch\", \"leav\", \"leav\", \"leav\", \"leav\", \"leav\", \"level\", \"level\", \"level\", \"level\", \"level\", \"life\", \"life\", \"life\", \"life\", \"life\", \"listen\", \"listen\", \"listen\", \"listen\", \"listen\", \"live\", \"live\", \"live\", \"live\", \"live\", \"locat\", \"locat\", \"locat\", \"locat\", \"locat\", \"longer\", \"longer\", \"longer\", \"longer\", \"longer\", \"lunch\", \"mandat\", \"mandatori\", \"mandatori\", \"mandatori\", \"mandatori\", \"mani\", \"mani\", \"mani\", \"mani\", \"mani\", \"march\", \"materi\", \"max\", \"max\", \"mayb\", \"mayb\", \"mayb\", \"mayb\", \"mayb\", \"men\", \"messag\", \"messag\", \"messag\", \"messag\", \"messag\", \"mobil\", \"mobil\", \"mobil\", \"mobil\", \"mobil\", \"multipl\", \"multipl\", \"multipl\", \"multipl\", \"multipl\", \"murder\", \"murder\", \"music\", \"music\", \"music\", \"music\", \"music\", \"mygovid\", \"mygovid\", \"nay-say\", \"necessari\", \"necessari\", \"necessari\", \"necessari\", \"necessari\", \"nevill\", \"nightmar\", \"non-start\", \"nonsens\", \"nonsens\", \"nonsens\", \"notif\", \"notif\", \"notif\", \"notif\", \"notif\", \"nt\", \"nt\", \"nt\", \"nt\", \"nt\", \"null\", \"null\", \"null\", \"null\", \"number\", \"number\", \"number\", \"number\", \"number\", \"number\\u00e2\\u20ac\\u009d\", \"numbr\", \"ok.\", \"ok.\", \"onli\", \"onli\", \"onli\", \"onli\", \"onli\", \"open\", \"open\", \"open\", \"open\", \"open\", \"optimis\", \"optimis\", \"optimis\", \"optimis\", \"optimis\", \"oral\", \"organis\", \"owe\", \"ozzi\", \"ozzi\", \"peac\", \"peac\", \"peac\", \"peac\", \"peasi\", \"peasi\", \"peep\", \"peep\", \"peep\", \"peopl\", \"peopl\", \"peopl\", \"peopl\", \"peopl\", \"percent\", \"percent\", \"percent\", \"phone\", \"phone\", \"phone\", \"phone\", \"phone\", \"pictur\", \"pin\", \"pin\", \"pin\", \"pin\", \"pin\", \"pleas\", \"pleas\", \"pleas\", \"pleas\", \"pleas\", \"popup\", \"popup\", \"press\", \"press\", \"press\", \"press\", \"press\", \"privaci\", \"privaci\", \"privaci\", \"privaci\", \"privaci\", \"privat\", \"privat\", \"privat\", \"privat\", \"privat\", \"problem\", \"problem\", \"problem\", \"problem\", \"problem\", \"prosecut\", \"protocol\", \"protocol\", \"protocol\", \"protocol\", \"protocol\", \"qrcode\", \"quick\", \"quick\", \"quick\", \"quick\", \"quick\", \"quot\", \"quot\", \"quot\", \"quot\", \"quot\", \"r7+\", \"r7+\", \"raffl\", \"realiz\", \"realm\", \"recogn\", \"recogn\", \"recogn\", \"recognis\", \"recognis\", \"recognis\", \"recognis\", \"regist\", \"regist\", \"regist\", \"regist\", \"regist\", \"registr\", \"registr\", \"registr\", \"registr\", \"registr\", \"regular\", \"regular\", \"regular\", \"regular\", \"regular\", \"reinstat\", \"reject\", \"reject\", \"reject\", \"reject\", \"reject\", \"remind\", \"remind\", \"remind\", \"remind\", \"remind\", \"requir\", \"requir\", \"requir\", \"requir\", \"requir\", \"resend\", \"resend\", \"resend\", \"reveal\", \"reviv\", \"rollout\", \"rtfm\", \"safe\", \"safe\", \"safe\", \"safe\", \"safe\", \"sandwich\", \"sandwich\", \"scale\", \"school\", \"school\", \"school\", \"screen\", \"screen\", \"screen\", \"screen\", \"screen\", \"self-centr\", \"seper\", \"set\", \"set\", \"set\", \"set\", \"set\", \"sign\", \"sign\", \"sign\", \"sign\", \"sign\", \"sign-up\", \"sign-up\", \"simpl\", \"simpl\", \"simpl\", \"simpl\", \"simpl\", \"sincer\", \"skeptic\", \"smss\", \"someth\", \"someth\", \"someth\", \"someth\", \"someth\", \"soooner\", \"spead\", \"spead\", \"speaker\", \"speaker\", \"speaker\", \"speaker\", \"speaker\", \"splash\", \"splash\", \"spread\", \"spread\", \"spread\", \"spread\", \"spread\", \"star\", \"star\", \"star\", \"star\", \"star\", \"start\", \"start\", \"start\", \"start\", \"start\", \"stay\", \"stay\", \"stay\", \"stay\", \"stay\", \"steal\", \"steal\", \"straight\", \"straight\", \"straight\", \"straight\", \"straight\", \"stubborn\", \"stubborn\", \"super\", \"super\", \"super\", \"super\", \"super\", \"temp\", \"tendenc\", \"tendenc\", \"thing\", \"thing\", \"thing\", \"thing\", \"thing\", \"thneed\", \"thneed\", \"thneed\", \"thneed\", \"time\", \"time\", \"time\", \"time\", \"time\", \"tin\", \"tin\", \"tin\", \"tin\", \"tin\", \"told\", \"told\", \"told\", \"told\", \"told\", \"toooooo\", \"topic\", \"trace\", \"trace\", \"trace\", \"trace\", \"trace\", \"track\", \"track\", \"track\", \"track\", \"track\", \"treat\", \"tri\", \"tri\", \"tri\", \"tri\", \"tri\", \"turn\", \"turn\", \"turn\", \"turn\", \"turn\", \"unabl\", \"unabl\", \"unabl\", \"unabl\", \"unabl\", \"underground\", \"uninstal\", \"uninstal\", \"uninstal\", \"uninstal\", \"uninstal\", \"unintrus\", \"unsustain\", \"updat\", \"updat\", \"updat\", \"updat\", \"updat\", \"usag\", \"usag\", \"usag\", \"usag\", \"usag\", \"useless\", \"useless\", \"useless\", \"useless\", \"useless\", \"valid\", \"valid\", \"valid\", \"valid\", \"veri\", \"veri\", \"veri\", \"veri\", \"veri\", \"vic.it\", \"victorian\", \"victorian\", \"violence.if\", \"virus\", \"virus\", \"virus\", \"virus\", \"virus\", \"virus-us\", \"virus-us\", \"volum\", \"volum\", \"volum\", \"volum\", \"westmeadow\", \"whi\", \"whi\", \"whi\", \"whi\", \"whi\", \"widget\", \"widget\", \"widget\", \"women\", \"work\", \"work\", \"work\", \"work\", \"work\", \"worthless\", \"xz2\", \"xz2\", \"yrs\", \"zdx\", \"zdx\", \"\\u00e2\\u20ac\\u00a2\", \"\\u00e2\\u20ac\\u0153error\", \"\\u00e2\\u20ac\\u0153error\", \"\\u00e2\\u20ac\\u0153old\\u00e2\\u20ac\\u009d\", \"\\u00e2\\u20ac\\u2122\", \"\\u00e2\\u2122\\u00a7\", \"\\u00ed\\u00a1\\u00e2\\u00b0\", \"\\u00f0\\u00ff\\u00a4\", \"\\u00f0\\u00ff\\u00a4\", \"\\u00f0\\u00ff\\u00a4\", \"\\u00f0\\u00ff\\u00a4\", \"\\u00f0\\u00ff\\u00a4\\u00aa\", \"\\u00f0\\u00ff\\u02dc\\u0081\", \"\\u00f0\\u00ff\\u02dc\\u0081\", \"\\u017e\\u00f0\\u00ff\\u008f\"]}, \"R\": 30, \"lambda.step\": 0.01, \"plot.opts\": {\"xlab\": \"PC1\", \"ylab\": \"PC2\"}, \"topic.order\": [2, 4, 3, 5, 1]};\n",
       "\n",
       "function LDAvis_load_lib(url, callback){\n",
       "  var s = document.createElement('script');\n",
       "  s.src = url;\n",
       "  s.async = true;\n",
       "  s.onreadystatechange = s.onload = callback;\n",
       "  s.onerror = function(){console.warn(\"failed to load library \" + url);};\n",
       "  document.getElementsByTagName(\"head\")[0].appendChild(s);\n",
       "}\n",
       "\n",
       "if(typeof(LDAvis) !== \"undefined\"){\n",
       "   // already loaded: just create the visualization\n",
       "   !function(LDAvis){\n",
       "       new LDAvis(\"#\" + \"ldavis_el3086020006525853286771846073\", ldavis_el3086020006525853286771846073_data);\n",
       "   }(LDAvis);\n",
       "}else if(typeof define === \"function\" && define.amd){\n",
       "   // require.js is available: use it to load d3/LDAvis\n",
       "   require.config({paths: {d3: \"https://d3js.org/d3.v5\"}});\n",
       "   require([\"d3\"], function(d3){\n",
       "      window.d3 = d3;\n",
       "      LDAvis_load_lib(\"https://cdn.jsdelivr.net/gh/bmabey/pyLDAvis@3.3.1/pyLDAvis/js/ldavis.v3.0.0.js\", function(){\n",
       "        new LDAvis(\"#\" + \"ldavis_el3086020006525853286771846073\", ldavis_el3086020006525853286771846073_data);\n",
       "      });\n",
       "    });\n",
       "}else{\n",
       "    // require.js not available: dynamically load d3 & LDAvis\n",
       "    LDAvis_load_lib(\"https://d3js.org/d3.v5.js\", function(){\n",
       "         LDAvis_load_lib(\"https://cdn.jsdelivr.net/gh/bmabey/pyLDAvis@3.3.1/pyLDAvis/js/ldavis.v3.0.0.js\", function(){\n",
       "                 new LDAvis(\"#\" + \"ldavis_el3086020006525853286771846073\", ldavis_el3086020006525853286771846073_data);\n",
       "            })\n",
       "         });\n",
       "}\n",
       "</script>"
      ],
      "text/plain": [
       "PreparedData(topic_coordinates=              x         y  topics  cluster       Freq\n",
       "topic                                                \n",
       "1      0.006105 -0.030470       1        1  31.054638\n",
       "3      0.038055  0.017809       2        1  26.224745\n",
       "2      0.046305  0.037406       3        1  18.538040\n",
       "4     -0.004667 -0.053579       4        1  18.348865\n",
       "0     -0.085797  0.028834       5        1   5.833712, topic_info=         Term         Freq        Total Category  logprob  loglift\n",
       "8      number  2174.000000  2174.000000  Default  30.0000  30.0000\n",
       "300      good   663.000000   663.000000  Default  29.0000  29.0000\n",
       "46       work  1910.000000  1910.000000  Default  28.0000  28.0000\n",
       "349   batteri  1387.000000  1387.000000  Default  27.0000  27.0000\n",
       "9       phone  2787.000000  2787.000000  Default  26.0000  26.0000\n",
       "...       ...          ...          ...      ...      ...      ...\n",
       "3053     quot    29.357164   588.865775   Topic5  -5.3927  -0.1571\n",
       "38    problem    26.404830   421.789736   Topic5  -5.4987   0.0706\n",
       "212     peopl    28.101842   730.039959   Topic5  -5.4364  -0.4157\n",
       "109     locat    27.029039   612.761376   Topic5  -5.4753  -0.2795\n",
       "44      great    26.642844   732.974983   Topic5  -5.4897  -0.4731\n",
       "\n",
       "[449 rows x 6 columns], token_table=      Topic      Freq    Term\n",
       "term                         \n",
       "309       1  0.097897     +61\n",
       "309       2  0.293692     +61\n",
       "309       3  0.522120     +61\n",
       "309       4  0.081581     +61\n",
       "3525      2  0.900579  +61408\n",
       "...     ...       ...     ...\n",
       "1835      4  0.064357     ðÿ¤\n",
       "2143      2  0.900397    ðÿ¤ª\n",
       "4868      2  0.368754    ðÿ˜\n",
       "4868      5  0.553131    ðÿ˜\n",
       "2869      4  0.922657    žðÿ\n",
       "\n",
       "[974 rows x 3 columns], R=30, lambda_step=0.01, plot_opts={'xlab': 'PC1', 'ylab': 'PC2'}, topic_order=[2, 4, 3, 5, 1])"
      ]
     },
     "execution_count": 17,
     "metadata": {},
     "output_type": "execute_result"
    }
   ],
   "source": [
    "# Analyzing LDA model results: group all reviews into 5 topics, single review can have multiple topics\n",
    "import pyLDAvis\n",
    "import pyLDAvis.gensim_models as gensimvis\n",
    "pyLDAvis.enable_notebook()\n",
    "\n",
    "import os\n",
    "LDAvis_data_filepath = os.path.join('./results/ldavis_prepared_'+str(num_topics))\n",
    "\n",
    "gensimvis.prepare(LDA_model, corpus, id2word)"
   ]
  },
  {
   "cell_type": "code",
   "execution_count": 18,
   "metadata": {},
   "outputs": [
    {
     "name": "stdout",
     "output_type": "stream",
     "text": [
      "[(0, '0.019*\"work\" + 0.019*\"good\" + 0.019*\"app\" + 0.014*\"nt\" + 0.014*\"batteri\" + 0.012*\"veri\" + 0.011*\"easi\" + 0.010*\"doe\" + 0.008*\"regist\" + 0.008*\"safe\"'), (1, '0.071*\"app\" + 0.023*\"bluetooth\" + 0.015*\"phone\" + 0.014*\"work\" + 0.014*\"nt\" + 0.011*\"download\" + 0.010*\"issu\" + 0.010*\"safe\" + 0.009*\"day\" + 0.009*\"data\"'), (2, '0.048*\"app\" + 0.042*\"number\" + 0.038*\"phone\" + 0.018*\"nt\" + 0.016*\"mobil\" + 0.015*\"download\" + 0.013*\"work\" + 0.013*\"doe\" + 0.013*\"regist\" + 0.011*\"invalid\"'), (3, '0.044*\"app\" + 0.035*\"phone\" + 0.034*\"number\" + 0.033*\"nt\" + 0.019*\"tri\" + 0.017*\"instal\" + 0.016*\"work\" + 0.016*\"invalid\" + 0.014*\"batteri\" + 0.014*\"time\"'), (4, '0.044*\"app\" + 0.027*\"work\" + 0.024*\"batteri\" + 0.022*\"phone\" + 0.015*\"great\" + 0.014*\"notif\" + 0.012*\"download\" + 0.011*\"locat\" + 0.010*\"instal\" + 0.010*\"drain\"')]\n"
     ]
    },
    {
     "name": "stderr",
     "output_type": "stream",
     "text": [
      "C:\\Users\\sammy\\anaconda3\\lib\\site-packages\\ipykernel\\ipkernel.py:287: DeprecationWarning: `should_run_async` will not call `transform_cell` automatically in the future. Please pass the result to `transformed_cell` argument and any exception that happen during thetransform in `preprocessing_exc_tuple` in IPython 7.17 and above.\n",
      "  and should_run_async(code)\n"
     ]
    }
   ],
   "source": [
    "print(LDA_model.print_topics()) # Print Keywords of each topic"
   ]
  },
  {
   "cell_type": "code",
   "execution_count": 19,
   "metadata": {},
   "outputs": [
    {
     "name": "stderr",
     "output_type": "stream",
     "text": [
      "C:\\Users\\sammy\\anaconda3\\lib\\site-packages\\ipykernel\\ipkernel.py:287: DeprecationWarning: `should_run_async` will not call `transform_cell` automatically in the future. Please pass the result to `transformed_cell` argument and any exception that happen during thetransform in `preprocessing_exc_tuple` in IPython 7.17 and above.\n",
      "  and should_run_async(code)\n"
     ]
    }
   ],
   "source": [
    "# Compute Coherence Score\n",
    "from gensim.models import CoherenceModel\n",
    "coherence_model_lda = CoherenceModel(model=LDA_model, texts=texts, dictionary=id2word, coherence='c_v')\n",
    "coherence_score = coherence_model_lda.get_coherence()"
   ]
  },
  {
   "cell_type": "code",
   "execution_count": 20,
   "metadata": {},
   "outputs": [
    {
     "name": "stderr",
     "output_type": "stream",
     "text": [
      "C:\\Users\\sammy\\anaconda3\\lib\\site-packages\\ipykernel\\ipkernel.py:287: DeprecationWarning: `should_run_async` will not call `transform_cell` automatically in the future. Please pass the result to `transformed_cell` argument and any exception that happen during thetransform in `preprocessing_exc_tuple` in IPython 7.17 and above.\n",
      "  and should_run_async(code)\n"
     ]
    },
    {
     "data": {
      "text/plain": [
       "0.3387364479511641"
      ]
     },
     "execution_count": 20,
     "metadata": {},
     "output_type": "execute_result"
    }
   ],
   "source": [
    "coherence_score #coherence score is a little bit small. The LDA model can be improved (e.g. higher coherence score) by building LDA Mallet Model, we can also find the optimal LDA model (most approperiate number of topics) with the highest coherence score."
   ]
  },
  {
   "cell_type": "code",
   "execution_count": 21,
   "metadata": {},
   "outputs": [
    {
     "name": "stderr",
     "output_type": "stream",
     "text": [
      "C:\\Users\\sammy\\anaconda3\\lib\\site-packages\\ipykernel\\ipkernel.py:287: DeprecationWarning: `should_run_async` will not call `transform_cell` automatically in the future. Please pass the result to `transformed_cell` argument and any exception that happen during thetransform in `preprocessing_exc_tuple` in IPython 7.17 and above.\n",
      "  and should_run_async(code)\n"
     ]
    }
   ],
   "source": [
    "#extract topic number\n",
    "def format_topics(ldamodel=LDA_model, corpus=corpus, texts=texts): #define a function format topic with parameter LDA model, corpus and texts\n",
    "    sent_topics_df = pd.DataFrame()\n",
    "    for i, row in enumerate(ldamodel[corpus]):\n",
    "        row = sorted(row, key=lambda x: (x[1]), reverse=True)\n",
    "        for j, (topic_num, prop_topic) in enumerate(row):\n",
    "            if j == 0:  \n",
    "                wp = ldamodel.show_topic(topic_num)\n",
    "                sent_topics_df = sent_topics_df.append(pd.Series([int(topic_num)+1, round(prop_topic,4)]), ignore_index=True)\n",
    "            else:\n",
    "                break\n",
    "    sent_topics_df.columns = ['Dominant_Topic', 'Perc_Contribution']\n",
    "\n",
    "    return(sent_topics_df)\n",
    "\n",
    "df_topic_sents_keywords = format_topics(ldamodel=LDA_model, corpus=corpus, texts=texts)\n",
    "df_dominant_topic = df_topic_sents_keywords.reset_index()\n",
    "dominant_topic = df_dominant_topic[['Dominant_Topic','Perc_Contribution']]\n",
    "df_topiced = pd.concat([df_enriched,dominant_topic],axis = 1)"
   ]
  },
  {
   "cell_type": "code",
   "execution_count": 22,
   "metadata": {},
   "outputs": [
    {
     "name": "stderr",
     "output_type": "stream",
     "text": [
      "C:\\Users\\sammy\\anaconda3\\lib\\site-packages\\ipykernel\\ipkernel.py:287: DeprecationWarning: `should_run_async` will not call `transform_cell` automatically in the future. Please pass the result to `transformed_cell` argument and any exception that happen during thetransform in `preprocessing_exc_tuple` in IPython 7.17 and above.\n",
      "  and should_run_async(code)\n"
     ]
    },
    {
     "data": {
      "text/html": [
       "<div>\n",
       "<style scoped>\n",
       "    .dataframe tbody tr th:only-of-type {\n",
       "        vertical-align: middle;\n",
       "    }\n",
       "\n",
       "    .dataframe tbody tr th {\n",
       "        vertical-align: top;\n",
       "    }\n",
       "\n",
       "    .dataframe thead th {\n",
       "        text-align: right;\n",
       "    }\n",
       "</style>\n",
       "<table border=\"1\" class=\"dataframe\">\n",
       "  <thead>\n",
       "    <tr style=\"text-align: right;\">\n",
       "      <th></th>\n",
       "      <th>ID</th>\n",
       "      <th>Review</th>\n",
       "      <th>Rating</th>\n",
       "      <th>Processed_Review</th>\n",
       "      <th>Dominant_Topic</th>\n",
       "      <th>Perc_Contribution</th>\n",
       "      <th>Sentiment_Score</th>\n",
       "    </tr>\n",
       "  </thead>\n",
       "  <tbody>\n",
       "    <tr>\n",
       "      <th>19</th>\n",
       "      <td>1047</td>\n",
       "      <td>Personal freedom and liberty is only up to the...</td>\n",
       "      <td>5</td>\n",
       "      <td>person freedom liberti onli lowest denomin don...</td>\n",
       "      <td>5.0</td>\n",
       "      <td>0.9313</td>\n",
       "      <td>0.0</td>\n",
       "    </tr>\n",
       "    <tr>\n",
       "      <th>25</th>\n",
       "      <td>1097</td>\n",
       "      <td>Easily downloaded the app. But does not acknow...</td>\n",
       "      <td>1</td>\n",
       "      <td>easili download app doe acknowledg mobil wonâ€...</td>\n",
       "      <td>3.0</td>\n",
       "      <td>0.9095</td>\n",
       "      <td>0.0</td>\n",
       "    </tr>\n",
       "    <tr>\n",
       "      <th>32</th>\n",
       "      <td>1372</td>\n",
       "      <td>Doing my bit to ensure my and communityâ€™s we...</td>\n",
       "      <td>5</td>\n",
       "      <td>bit ensur communityâ€™ wellb</td>\n",
       "      <td>3.0</td>\n",
       "      <td>0.8386</td>\n",
       "      <td>0.0</td>\n",
       "    </tr>\n",
       "    <tr>\n",
       "      <th>36</th>\n",
       "      <td>1347</td>\n",
       "      <td>Do the right thing. Download the app. Letâ€™s ...</td>\n",
       "      <td>5</td>\n",
       "      <td>thing download app letâ€™ live sooner</td>\n",
       "      <td>5.0</td>\n",
       "      <td>0.8804</td>\n",
       "      <td>0.0</td>\n",
       "    </tr>\n",
       "    <tr>\n",
       "      <th>44</th>\n",
       "      <td>1060</td>\n",
       "      <td>I am very privacy conscious, and I cannot know...</td>\n",
       "      <td>5</td>\n",
       "      <td>veri privaci conscious app futur respons thing</td>\n",
       "      <td>2.0</td>\n",
       "      <td>0.8970</td>\n",
       "      <td>0.0</td>\n",
       "    </tr>\n",
       "    <tr>\n",
       "      <th>...</th>\n",
       "      <td>...</td>\n",
       "      <td>...</td>\n",
       "      <td>...</td>\n",
       "      <td>...</td>\n",
       "      <td>...</td>\n",
       "      <td>...</td>\n",
       "      <td>...</td>\n",
       "    </tr>\n",
       "    <tr>\n",
       "      <th>10329</th>\n",
       "      <td>1546</td>\n",
       "      <td>If I could rate negative stars it would be neg...</td>\n",
       "      <td>1</td>\n",
       "      <td>rate negat star negat</td>\n",
       "      <td>5.0</td>\n",
       "      <td>0.8379</td>\n",
       "      <td>0.0</td>\n",
       "    </tr>\n",
       "    <tr>\n",
       "      <th>10331</th>\n",
       "      <td>1526</td>\n",
       "      <td>sits in background giving messages saying not ...</td>\n",
       "      <td>1</td>\n",
       "      <td>sit background messag activ nt open whi activ</td>\n",
       "      <td>4.0</td>\n",
       "      <td>0.9084</td>\n",
       "      <td>0.0</td>\n",
       "    </tr>\n",
       "    <tr>\n",
       "      <th>10332</th>\n",
       "      <td>1533</td>\n",
       "      <td>I don't know if it really did anything at all....</td>\n",
       "      <td>2</td>\n",
       "      <td>nt realli anyth sign idea</td>\n",
       "      <td>4.0</td>\n",
       "      <td>0.8644</td>\n",
       "      <td>0.0</td>\n",
       "    </tr>\n",
       "    <tr>\n",
       "      <th>10333</th>\n",
       "      <td>1531</td>\n",
       "      <td>Extreme battery use since the Dec update. Sorr...</td>\n",
       "      <td>1</td>\n",
       "      <td>extrem batteri sinc dec updat sorri uninstal</td>\n",
       "      <td>2.0</td>\n",
       "      <td>0.8976</td>\n",
       "      <td>0.0</td>\n",
       "    </tr>\n",
       "    <tr>\n",
       "      <th>10336</th>\n",
       "      <td>1521</td>\n",
       "      <td>Didnt do anything</td>\n",
       "      <td>1</td>\n",
       "      <td>didnt anyth</td>\n",
       "      <td>3.0</td>\n",
       "      <td>0.7293</td>\n",
       "      <td>0.0</td>\n",
       "    </tr>\n",
       "  </tbody>\n",
       "</table>\n",
       "<p>3412 rows × 7 columns</p>\n",
       "</div>"
      ],
      "text/plain": [
       "         ID                                             Review  Rating  \\\n",
       "19     1047  Personal freedom and liberty is only up to the...       5   \n",
       "25     1097  Easily downloaded the app. But does not acknow...       1   \n",
       "32     1372  Doing my bit to ensure my and communityâ€™s we...       5   \n",
       "36     1347  Do the right thing. Download the app. Letâ€™s ...       5   \n",
       "44     1060  I am very privacy conscious, and I cannot know...       5   \n",
       "...     ...                                                ...     ...   \n",
       "10329  1546  If I could rate negative stars it would be neg...       1   \n",
       "10331  1526  sits in background giving messages saying not ...       1   \n",
       "10332  1533  I don't know if it really did anything at all....       2   \n",
       "10333  1531  Extreme battery use since the Dec update. Sorr...       1   \n",
       "10336  1521                                  Didnt do anything       1   \n",
       "\n",
       "                                        Processed_Review  Dominant_Topic  \\\n",
       "19     person freedom liberti onli lowest denomin don...             5.0   \n",
       "25     easili download app doe acknowledg mobil wonâ€...             3.0   \n",
       "32                          bit ensur communityâ€™ wellb             3.0   \n",
       "36                 thing download app letâ€™ live sooner             5.0   \n",
       "44        veri privaci conscious app futur respons thing             2.0   \n",
       "...                                                  ...             ...   \n",
       "10329                              rate negat star negat             5.0   \n",
       "10331      sit background messag activ nt open whi activ             4.0   \n",
       "10332                          nt realli anyth sign idea             4.0   \n",
       "10333       extrem batteri sinc dec updat sorri uninstal             2.0   \n",
       "10336                                        didnt anyth             3.0   \n",
       "\n",
       "       Perc_Contribution  Sentiment_Score  \n",
       "19                0.9313              0.0  \n",
       "25                0.9095              0.0  \n",
       "32                0.8386              0.0  \n",
       "36                0.8804              0.0  \n",
       "44                0.8970              0.0  \n",
       "...                  ...              ...  \n",
       "10329             0.8379              0.0  \n",
       "10331             0.9084              0.0  \n",
       "10332             0.8644              0.0  \n",
       "10333             0.8976              0.0  \n",
       "10336             0.7293              0.0  \n",
       "\n",
       "[3412 rows x 7 columns]"
      ]
     },
     "execution_count": 22,
     "metadata": {},
     "output_type": "execute_result"
    }
   ],
   "source": [
    "#Sentiment analysis:\n",
    "from vaderSentiment.vaderSentiment import SentimentIntensityAnalyzer\n",
    "Sentiment_analyser = SentimentIntensityAnalyzer() #store sentiment analyzer as Sentiment_analyser\n",
    "sentimental_text_list = [] #create a list called sentimental_text_list\n",
    "\n",
    "for sentence in df_topiced[\"Processed_Review\"]: #for loop use sentiment analyzer to analyse sentence/review in 'Processed_Review' column\n",
    "    text_score = Sentiment_analyser.polarity_scores(sentence)['compound'] #provide only 'compound' score and store as text_score\n",
    "    sentimental_text_list.append(text_score) #store data in text_score into sentimental_text_list list\n",
    "    \n",
    "df_topiced['Sentiment_Score'] = sentimental_text_list #create new column 'Sentiment_Score' and store sentimental_text_list into this column\n",
    "df_topiced[df_topiced['Sentiment_Score'] == 0] #check number of 0 sentiment score (neutral sentiment), 3412 out of 10337 (33%) are scored neutral for sentiment "
   ]
  },
  {
   "cell_type": "code",
   "execution_count": 23,
   "metadata": {},
   "outputs": [
    {
     "name": "stderr",
     "output_type": "stream",
     "text": [
      "C:\\Users\\sammy\\anaconda3\\lib\\site-packages\\ipykernel\\ipkernel.py:287: DeprecationWarning: `should_run_async` will not call `transform_cell` automatically in the future. Please pass the result to `transformed_cell` argument and any exception that happen during thetransform in `preprocessing_exc_tuple` in IPython 7.17 and above.\n",
      "  and should_run_async(code)\n"
     ]
    },
    {
     "data": {
      "text/plain": [
       "<10337x6025 sparse matrix of type '<class 'numpy.float64'>'\n",
       "\twith 99217 stored elements in Compressed Sparse Row format>"
      ]
     },
     "execution_count": 23,
     "metadata": {},
     "output_type": "execute_result"
    }
   ],
   "source": [
    "#TF-IDF:\n",
    "from sklearn.feature_extraction.text import TfidfVectorizer\n",
    "Vectorizer = TfidfVectorizer ()\n",
    "Vectorized_Review = Vectorizer.fit_transform(df_topiced[\"Processed_Review\"])\n",
    "Vectorized_Review #vectorize 'Processed_Review' and obtain a vector of 10337 rows and 6025 columns"
   ]
  },
  {
   "cell_type": "code",
   "execution_count": 24,
   "metadata": {},
   "outputs": [
    {
     "name": "stderr",
     "output_type": "stream",
     "text": [
      "C:\\Users\\sammy\\anaconda3\\lib\\site-packages\\ipykernel\\ipkernel.py:287: DeprecationWarning: `should_run_async` will not call `transform_cell` automatically in the future. Please pass the result to `transformed_cell` argument and any exception that happen during thetransform in `preprocessing_exc_tuple` in IPython 7.17 and above.\n",
      "  and should_run_async(code)\n"
     ]
    }
   ],
   "source": [
    "#Dimension reduciton using SVD: #similar SVD means similar sentence\n",
    "from sklearn.decomposition import TruncatedSVD\n",
    "SVD = TruncatedSVD(n_components=3, n_iter=100) #reduce columns of vector into 3\n",
    "SVD_Review= SVD.fit_transform(Vectorized_Review) #apply SVD and store the result into SVD_Review\n",
    "df_topiced[['SVD1','SVD2', 'SVD3']]=SVD_Review #add new columns to df_topiced and store with SVD_Review"
   ]
  },
  {
   "cell_type": "code",
   "execution_count": 25,
   "metadata": {},
   "outputs": [
    {
     "name": "stderr",
     "output_type": "stream",
     "text": [
      "C:\\Users\\sammy\\anaconda3\\lib\\site-packages\\ipykernel\\ipkernel.py:287: DeprecationWarning: `should_run_async` will not call `transform_cell` automatically in the future. Please pass the result to `transformed_cell` argument and any exception that happen during thetransform in `preprocessing_exc_tuple` in IPython 7.17 and above.\n",
      "  and should_run_async(code)\n"
     ]
    }
   ],
   "source": [
    "df_ready = df_topiced #now we have added sentiment scores and 3 components-SVD (drived from processed review) into the dataset. Data is ready for modelling"
   ]
  },
  {
   "cell_type": "markdown",
   "metadata": {},
   "source": [
    "# Model building & evaluation "
   ]
  },
  {
   "cell_type": "code",
   "execution_count": 26,
   "metadata": {},
   "outputs": [
    {
     "name": "stderr",
     "output_type": "stream",
     "text": [
      "C:\\Users\\sammy\\anaconda3\\lib\\site-packages\\ipykernel\\ipkernel.py:287: DeprecationWarning: `should_run_async` will not call `transform_cell` automatically in the future. Please pass the result to `transformed_cell` argument and any exception that happen during thetransform in `preprocessing_exc_tuple` in IPython 7.17 and above.\n",
      "  and should_run_async(code)\n"
     ]
    },
    {
     "data": {
      "text/html": [
       "<div>\n",
       "<style scoped>\n",
       "    .dataframe tbody tr th:only-of-type {\n",
       "        vertical-align: middle;\n",
       "    }\n",
       "\n",
       "    .dataframe tbody tr th {\n",
       "        vertical-align: top;\n",
       "    }\n",
       "\n",
       "    .dataframe thead th {\n",
       "        text-align: right;\n",
       "    }\n",
       "</style>\n",
       "<table border=\"1\" class=\"dataframe\">\n",
       "  <thead>\n",
       "    <tr style=\"text-align: right;\">\n",
       "      <th></th>\n",
       "      <th>Dominant_Topic</th>\n",
       "      <th>Perc_Contribution</th>\n",
       "      <th>Sentiment_Score</th>\n",
       "      <th>SVD1</th>\n",
       "      <th>SVD2</th>\n",
       "      <th>SVD3</th>\n",
       "    </tr>\n",
       "  </thead>\n",
       "  <tbody>\n",
       "    <tr>\n",
       "      <th>Dominant_Topic</th>\n",
       "      <td>1.000000</td>\n",
       "      <td>0.108203</td>\n",
       "      <td>-0.039759</td>\n",
       "      <td>0.117324</td>\n",
       "      <td>-0.027124</td>\n",
       "      <td>0.123828</td>\n",
       "    </tr>\n",
       "    <tr>\n",
       "      <th>Perc_Contribution</th>\n",
       "      <td>0.108203</td>\n",
       "      <td>1.000000</td>\n",
       "      <td>-0.043832</td>\n",
       "      <td>0.175477</td>\n",
       "      <td>-0.091615</td>\n",
       "      <td>-0.015370</td>\n",
       "    </tr>\n",
       "    <tr>\n",
       "      <th>Sentiment_Score</th>\n",
       "      <td>-0.039759</td>\n",
       "      <td>-0.043832</td>\n",
       "      <td>1.000000</td>\n",
       "      <td>0.012628</td>\n",
       "      <td>0.090385</td>\n",
       "      <td>-0.029309</td>\n",
       "    </tr>\n",
       "    <tr>\n",
       "      <th>SVD1</th>\n",
       "      <td>0.117324</td>\n",
       "      <td>0.175477</td>\n",
       "      <td>0.012628</td>\n",
       "      <td>1.000000</td>\n",
       "      <td>-0.585876</td>\n",
       "      <td>0.035454</td>\n",
       "    </tr>\n",
       "    <tr>\n",
       "      <th>SVD2</th>\n",
       "      <td>-0.027124</td>\n",
       "      <td>-0.091615</td>\n",
       "      <td>0.090385</td>\n",
       "      <td>-0.585876</td>\n",
       "      <td>1.000000</td>\n",
       "      <td>0.021264</td>\n",
       "    </tr>\n",
       "    <tr>\n",
       "      <th>SVD3</th>\n",
       "      <td>0.123828</td>\n",
       "      <td>-0.015370</td>\n",
       "      <td>-0.029309</td>\n",
       "      <td>0.035454</td>\n",
       "      <td>0.021264</td>\n",
       "      <td>1.000000</td>\n",
       "    </tr>\n",
       "  </tbody>\n",
       "</table>\n",
       "</div>"
      ],
      "text/plain": [
       "                   Dominant_Topic  Perc_Contribution  Sentiment_Score  \\\n",
       "Dominant_Topic           1.000000           0.108203        -0.039759   \n",
       "Perc_Contribution        0.108203           1.000000        -0.043832   \n",
       "Sentiment_Score         -0.039759          -0.043832         1.000000   \n",
       "SVD1                     0.117324           0.175477         0.012628   \n",
       "SVD2                    -0.027124          -0.091615         0.090385   \n",
       "SVD3                     0.123828          -0.015370        -0.029309   \n",
       "\n",
       "                       SVD1      SVD2      SVD3  \n",
       "Dominant_Topic     0.117324 -0.027124  0.123828  \n",
       "Perc_Contribution  0.175477 -0.091615 -0.015370  \n",
       "Sentiment_Score    0.012628  0.090385 -0.029309  \n",
       "SVD1               1.000000 -0.585876  0.035454  \n",
       "SVD2              -0.585876  1.000000  0.021264  \n",
       "SVD3               0.035454  0.021264  1.000000  "
      ]
     },
     "execution_count": 26,
     "metadata": {},
     "output_type": "execute_result"
    }
   ],
   "source": [
    "target_y =  df_ready[\"Rating\"]\n",
    "feature_x = df_ready[['Dominant_Topic','Perc_Contribution','Sentiment_Score','SVD1','SVD2','SVD3']]\n",
    "feature_x.corr() #no identical correlation, can be used to predict target y."
   ]
  },
  {
   "cell_type": "code",
   "execution_count": 27,
   "metadata": {},
   "outputs": [
    {
     "name": "stderr",
     "output_type": "stream",
     "text": [
      "C:\\Users\\sammy\\anaconda3\\lib\\site-packages\\ipykernel\\ipkernel.py:287: DeprecationWarning: `should_run_async` will not call `transform_cell` automatically in the future. Please pass the result to `transformed_cell` argument and any exception that happen during thetransform in `preprocessing_exc_tuple` in IPython 7.17 and above.\n",
      "  and should_run_async(code)\n"
     ]
    },
    {
     "data": {
      "text/plain": [
       "array([-0.06256994, -1.25752147,  1.37166834, -2.90290247,  2.22771678,\n",
       "        2.85614433])"
      ]
     },
     "execution_count": 27,
     "metadata": {},
     "output_type": "execute_result"
    }
   ],
   "source": [
    "from sklearn import linear_model\n",
    "lm = linear_model.LinearRegression()\n",
    "lm.fit(feature_x, target_y)\n",
    "lm.coef_ #coefficient of factors with target rating"
   ]
  },
  {
   "cell_type": "code",
   "execution_count": 28,
   "metadata": {},
   "outputs": [
    {
     "name": "stderr",
     "output_type": "stream",
     "text": [
      "C:\\Users\\sammy\\anaconda3\\lib\\site-packages\\ipykernel\\ipkernel.py:287: DeprecationWarning: `should_run_async` will not call `transform_cell` automatically in the future. Please pass the result to `transformed_cell` argument and any exception that happen during thetransform in `preprocessing_exc_tuple` in IPython 7.17 and above.\n",
      "  and should_run_async(code)\n"
     ]
    },
    {
     "data": {
      "text/plain": [
       "0.28001136587764897"
      ]
     },
     "execution_count": 28,
     "metadata": {},
     "output_type": "execute_result"
    }
   ],
   "source": [
    "lm.score(feature_x, target_y) #R square, 28% explains little about the target. Not a good regression model"
   ]
  },
  {
   "cell_type": "code",
   "execution_count": 29,
   "metadata": {},
   "outputs": [
    {
     "name": "stderr",
     "output_type": "stream",
     "text": [
      "C:\\Users\\sammy\\anaconda3\\lib\\site-packages\\ipykernel\\ipkernel.py:287: DeprecationWarning: `should_run_async` will not call `transform_cell` automatically in the future. Please pass the result to `transformed_cell` argument and any exception that happen during thetransform in `preprocessing_exc_tuple` in IPython 7.17 and above.\n",
      "  and should_run_async(code)\n"
     ]
    }
   ],
   "source": [
    "#Nueral Network\n",
    "from sklearn.neural_network import MLPRegressor\n",
    "My_NN = MLPRegressor(hidden_layer_sizes=(25,), max_iter=500)\n",
    "mlp = My_NN.fit(feature_x,target_y)\n",
    "\n",
    "from sklearn.model_selection import cross_val_score\n",
    "scores = cross_val_score(mlp, feature_x, target_y, cv=5)"
   ]
  },
  {
   "cell_type": "code",
   "execution_count": 30,
   "metadata": {},
   "outputs": [
    {
     "name": "stderr",
     "output_type": "stream",
     "text": [
      "C:\\Users\\sammy\\anaconda3\\lib\\site-packages\\ipykernel\\ipkernel.py:287: DeprecationWarning: `should_run_async` will not call `transform_cell` automatically in the future. Please pass the result to `transformed_cell` argument and any exception that happen during thetransform in `preprocessing_exc_tuple` in IPython 7.17 and above.\n",
      "  and should_run_async(code)\n"
     ]
    },
    {
     "data": {
      "text/plain": [
       "0.1307242269474387"
      ]
     },
     "execution_count": 30,
     "metadata": {},
     "output_type": "execute_result"
    }
   ],
   "source": [
    "scores.mean() #13.07% after cross-validation"
   ]
  },
  {
   "cell_type": "code",
   "execution_count": 44,
   "metadata": {},
   "outputs": [
    {
     "name": "stderr",
     "output_type": "stream",
     "text": [
      "C:\\Users\\sammy\\anaconda3\\lib\\site-packages\\ipykernel\\ipkernel.py:287: DeprecationWarning: `should_run_async` will not call `transform_cell` automatically in the future. Please pass the result to `transformed_cell` argument and any exception that happen during thetransform in `preprocessing_exc_tuple` in IPython 7.17 and above.\n",
      "  and should_run_async(code)\n"
     ]
    },
    {
     "ename": "ValueError",
     "evalue": "Negative values in data passed to MultinomialNB (input X)",
     "output_type": "error",
     "traceback": [
      "\u001b[1;31m---------------------------------------------------------------------------\u001b[0m",
      "\u001b[1;31mValueError\u001b[0m                                Traceback (most recent call last)",
      "\u001b[1;32m<ipython-input-44-0666cee8db44>\u001b[0m in \u001b[0;36m<module>\u001b[1;34m\u001b[0m\n\u001b[0;32m      1\u001b[0m \u001b[1;32mfrom\u001b[0m \u001b[0msklearn\u001b[0m\u001b[1;33m.\u001b[0m\u001b[0mnaive_bayes\u001b[0m \u001b[1;32mimport\u001b[0m \u001b[0mMultinomialNB\u001b[0m\u001b[1;33m\u001b[0m\u001b[1;33m\u001b[0m\u001b[0m\n\u001b[0;32m      2\u001b[0m \u001b[0mmnb\u001b[0m \u001b[1;33m=\u001b[0m \u001b[0mMultinomialNB\u001b[0m\u001b[1;33m(\u001b[0m\u001b[1;33m)\u001b[0m\u001b[1;33m\u001b[0m\u001b[1;33m\u001b[0m\u001b[0m\n\u001b[1;32m----> 3\u001b[1;33m \u001b[0mmnb\u001b[0m\u001b[1;33m.\u001b[0m\u001b[0mfit\u001b[0m\u001b[1;33m(\u001b[0m\u001b[0mfeature_x\u001b[0m\u001b[1;33m,\u001b[0m \u001b[0mtarget_y\u001b[0m\u001b[1;33m)\u001b[0m\u001b[1;33m\u001b[0m\u001b[1;33m\u001b[0m\u001b[0m\n\u001b[0m\u001b[0;32m      4\u001b[0m \u001b[0mprint\u001b[0m\u001b[1;33m(\u001b[0m\u001b[0mmnb\u001b[0m\u001b[1;33m.\u001b[0m\u001b[0mpredict\u001b[0m\u001b[1;33m(\u001b[0m\u001b[0mfeature_x\u001b[0m\u001b[1;33m)\u001b[0m\u001b[1;33m)\u001b[0m\u001b[1;33m\u001b[0m\u001b[1;33m\u001b[0m\u001b[0m\n",
      "\u001b[1;32m~\\anaconda3\\lib\\site-packages\\sklearn\\naive_bayes.py\u001b[0m in \u001b[0;36mfit\u001b[1;34m(self, X, y, sample_weight)\u001b[0m\n\u001b[0;32m    639\u001b[0m \u001b[1;33m\u001b[0m\u001b[0m\n\u001b[0;32m    640\u001b[0m         \u001b[0mself\u001b[0m\u001b[1;33m.\u001b[0m\u001b[0m_init_counters\u001b[0m\u001b[1;33m(\u001b[0m\u001b[0mn_effective_classes\u001b[0m\u001b[1;33m,\u001b[0m \u001b[0mn_features\u001b[0m\u001b[1;33m)\u001b[0m\u001b[1;33m\u001b[0m\u001b[1;33m\u001b[0m\u001b[0m\n\u001b[1;32m--> 641\u001b[1;33m         \u001b[0mself\u001b[0m\u001b[1;33m.\u001b[0m\u001b[0m_count\u001b[0m\u001b[1;33m(\u001b[0m\u001b[0mX\u001b[0m\u001b[1;33m,\u001b[0m \u001b[0mY\u001b[0m\u001b[1;33m)\u001b[0m\u001b[1;33m\u001b[0m\u001b[1;33m\u001b[0m\u001b[0m\n\u001b[0m\u001b[0;32m    642\u001b[0m         \u001b[0malpha\u001b[0m \u001b[1;33m=\u001b[0m \u001b[0mself\u001b[0m\u001b[1;33m.\u001b[0m\u001b[0m_check_alpha\u001b[0m\u001b[1;33m(\u001b[0m\u001b[1;33m)\u001b[0m\u001b[1;33m\u001b[0m\u001b[1;33m\u001b[0m\u001b[0m\n\u001b[0;32m    643\u001b[0m         \u001b[0mself\u001b[0m\u001b[1;33m.\u001b[0m\u001b[0m_update_feature_log_prob\u001b[0m\u001b[1;33m(\u001b[0m\u001b[0malpha\u001b[0m\u001b[1;33m)\u001b[0m\u001b[1;33m\u001b[0m\u001b[1;33m\u001b[0m\u001b[0m\n",
      "\u001b[1;32m~\\anaconda3\\lib\\site-packages\\sklearn\\naive_bayes.py\u001b[0m in \u001b[0;36m_count\u001b[1;34m(self, X, Y)\u001b[0m\n\u001b[0;32m    761\u001b[0m     \u001b[1;32mdef\u001b[0m \u001b[0m_count\u001b[0m\u001b[1;33m(\u001b[0m\u001b[0mself\u001b[0m\u001b[1;33m,\u001b[0m \u001b[0mX\u001b[0m\u001b[1;33m,\u001b[0m \u001b[0mY\u001b[0m\u001b[1;33m)\u001b[0m\u001b[1;33m:\u001b[0m\u001b[1;33m\u001b[0m\u001b[1;33m\u001b[0m\u001b[0m\n\u001b[0;32m    762\u001b[0m         \u001b[1;34m\"\"\"Count and smooth feature occurrences.\"\"\"\u001b[0m\u001b[1;33m\u001b[0m\u001b[1;33m\u001b[0m\u001b[0m\n\u001b[1;32m--> 763\u001b[1;33m         \u001b[0mcheck_non_negative\u001b[0m\u001b[1;33m(\u001b[0m\u001b[0mX\u001b[0m\u001b[1;33m,\u001b[0m \u001b[1;34m\"MultinomialNB (input X)\"\u001b[0m\u001b[1;33m)\u001b[0m\u001b[1;33m\u001b[0m\u001b[1;33m\u001b[0m\u001b[0m\n\u001b[0m\u001b[0;32m    764\u001b[0m         \u001b[0mself\u001b[0m\u001b[1;33m.\u001b[0m\u001b[0mfeature_count_\u001b[0m \u001b[1;33m+=\u001b[0m \u001b[0msafe_sparse_dot\u001b[0m\u001b[1;33m(\u001b[0m\u001b[0mY\u001b[0m\u001b[1;33m.\u001b[0m\u001b[0mT\u001b[0m\u001b[1;33m,\u001b[0m \u001b[0mX\u001b[0m\u001b[1;33m)\u001b[0m\u001b[1;33m\u001b[0m\u001b[1;33m\u001b[0m\u001b[0m\n\u001b[0;32m    765\u001b[0m         \u001b[0mself\u001b[0m\u001b[1;33m.\u001b[0m\u001b[0mclass_count_\u001b[0m \u001b[1;33m+=\u001b[0m \u001b[0mY\u001b[0m\u001b[1;33m.\u001b[0m\u001b[0msum\u001b[0m\u001b[1;33m(\u001b[0m\u001b[0maxis\u001b[0m\u001b[1;33m=\u001b[0m\u001b[1;36m0\u001b[0m\u001b[1;33m)\u001b[0m\u001b[1;33m\u001b[0m\u001b[1;33m\u001b[0m\u001b[0m\n",
      "\u001b[1;32m~\\anaconda3\\lib\\site-packages\\sklearn\\utils\\validation.py\u001b[0m in \u001b[0;36mcheck_non_negative\u001b[1;34m(X, whom)\u001b[0m\n\u001b[0;32m   1044\u001b[0m \u001b[1;33m\u001b[0m\u001b[0m\n\u001b[0;32m   1045\u001b[0m     \u001b[1;32mif\u001b[0m \u001b[0mX_min\u001b[0m \u001b[1;33m<\u001b[0m \u001b[1;36m0\u001b[0m\u001b[1;33m:\u001b[0m\u001b[1;33m\u001b[0m\u001b[1;33m\u001b[0m\u001b[0m\n\u001b[1;32m-> 1046\u001b[1;33m         \u001b[1;32mraise\u001b[0m \u001b[0mValueError\u001b[0m\u001b[1;33m(\u001b[0m\u001b[1;34m\"Negative values in data passed to %s\"\u001b[0m \u001b[1;33m%\u001b[0m \u001b[0mwhom\u001b[0m\u001b[1;33m)\u001b[0m\u001b[1;33m\u001b[0m\u001b[1;33m\u001b[0m\u001b[0m\n\u001b[0m\u001b[0;32m   1047\u001b[0m \u001b[1;33m\u001b[0m\u001b[0m\n\u001b[0;32m   1048\u001b[0m \u001b[1;33m\u001b[0m\u001b[0m\n",
      "\u001b[1;31mValueError\u001b[0m: Negative values in data passed to MultinomialNB (input X)"
     ]
    }
   ],
   "source": [
    "from sklearn.naive_bayes import MultinomialNB\n",
    "mnb = MultinomialNB()\n",
    "mnb.fit(feature_x, target_y)\n",
    "print(mnb.predict(feature_x)) #does not work with negative input"
   ]
  },
  {
   "cell_type": "code",
   "execution_count": 39,
   "metadata": {},
   "outputs": [
    {
     "name": "stderr",
     "output_type": "stream",
     "text": [
      "C:\\Users\\sammy\\anaconda3\\lib\\site-packages\\ipykernel\\ipkernel.py:287: DeprecationWarning: `should_run_async` will not call `transform_cell` automatically in the future. Please pass the result to `transformed_cell` argument and any exception that happen during thetransform in `preprocessing_exc_tuple` in IPython 7.17 and above.\n",
      "  and should_run_async(code)\n"
     ]
    },
    {
     "data": {
      "text/plain": [
       "-0.044642985330998905"
      ]
     },
     "execution_count": 39,
     "metadata": {},
     "output_type": "execute_result"
    }
   ],
   "source": [
    "from sklearn.neighbors import KNeighborsRegressor\n",
    "knn_model = KNeighborsRegressor(n_neighbors=3)\n",
    "knn_model.fit(feature_x, target_y)\n",
    "knn_scores = cross_val_score(knn_model, feature_x, target_y, cv=5)\n",
    "knn_scores.mean() #negative result after cross-validation"
   ]
  }
 ],
 "metadata": {
  "kernelspec": {
   "display_name": "Python 3",
   "language": "python",
   "name": "python3"
  },
  "language_info": {
   "codemirror_mode": {
    "name": "ipython",
    "version": 3
   },
   "file_extension": ".py",
   "mimetype": "text/x-python",
   "name": "python",
   "nbconvert_exporter": "python",
   "pygments_lexer": "ipython3",
   "version": "3.8.5"
  }
 },
 "nbformat": 4,
 "nbformat_minor": 2
}
